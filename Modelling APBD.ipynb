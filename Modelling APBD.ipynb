{
 "cells": [
  {
   "cell_type": "code",
   "execution_count": 1,
   "metadata": {},
   "outputs": [],
   "source": [
    "import numpy as np\n",
    "import pandas as pd\n",
    "import matplotlib.pyplot as plt\n",
    "import seaborn as sns"
   ]
  },
  {
   "cell_type": "code",
   "execution_count": 2,
   "metadata": {
    "scrolled": false
   },
   "outputs": [
    {
     "name": "stderr",
     "output_type": "stream",
     "text": [
      "C:\\ProgramData\\Anaconda3\\lib\\site-packages\\IPython\\core\\interactiveshell.py:3071: DtypeWarning: Columns (10,11,15,16,17,19,23,33,35,37,38) have mixed types.Specify dtype option on import or set low_memory=False.\n",
      "  has_raised = await self.run_ast_nodes(code_ast.body, cell_name,\n"
     ]
    }
   ],
   "source": [
    "data = pd.read_csv('bedah_data.csv', sep='|')"
   ]
  },
  {
   "cell_type": "code",
   "execution_count": 3,
   "metadata": {},
   "outputs": [],
   "source": [
    "#agar bisa melihat semua data\n",
    "pd.set_option('display.max_columns', None)\n",
    "pd.set_option('display.max_rows', None)"
   ]
  },
  {
   "cell_type": "markdown",
   "metadata": {},
   "source": [
    "Cek data"
   ]
  },
  {
   "cell_type": "code",
   "execution_count": 4,
   "metadata": {
    "scrolled": true
   },
   "outputs": [
    {
     "data": {
      "text/html": [
       "<div>\n",
       "<style scoped>\n",
       "    .dataframe tbody tr th:only-of-type {\n",
       "        vertical-align: middle;\n",
       "    }\n",
       "\n",
       "    .dataframe tbody tr th {\n",
       "        vertical-align: top;\n",
       "    }\n",
       "\n",
       "    .dataframe thead th {\n",
       "        text-align: right;\n",
       "    }\n",
       "</style>\n",
       "<table border=\"1\" class=\"dataframe\">\n",
       "  <thead>\n",
       "    <tr style=\"text-align: right;\">\n",
       "      <th></th>\n",
       "      <th>apbdindex</th>\n",
       "      <th>kodesatker</th>\n",
       "      <th>kodepemda</th>\n",
       "      <th>namapemda</th>\n",
       "      <th>tahunanggaran</th>\n",
       "      <th>bulan</th>\n",
       "      <th>tglpengiriman</th>\n",
       "      <th>kodedata</th>\n",
       "      <th>statusdata</th>\n",
       "      <th>jeniscoa</th>\n",
       "      <th>nomorperda</th>\n",
       "      <th>tanggalperda</th>\n",
       "      <th>namaaplikasi</th>\n",
       "      <th>pengembangaplikasi</th>\n",
       "      <th>kegiatanindex</th>\n",
       "      <th>kodeurusanprogram</th>\n",
       "      <th>namaurusanprogram</th>\n",
       "      <th>kodeurusanpelaksana</th>\n",
       "      <th>namaurusanpelaksana</th>\n",
       "      <th>kodeskpd</th>\n",
       "      <th>namaskpd</th>\n",
       "      <th>kodeprogram</th>\n",
       "      <th>namaprogram</th>\n",
       "      <th>kodekegiatan</th>\n",
       "      <th>namakegiatan</th>\n",
       "      <th>kodefungsi</th>\n",
       "      <th>namafungsi</th>\n",
       "      <th>kodeakunutama</th>\n",
       "      <th>namaakunutama</th>\n",
       "      <th>kodeakunkelompok</th>\n",
       "      <th>namaakunkelompok</th>\n",
       "      <th>kodeakunjenis</th>\n",
       "      <th>namaakunjenis</th>\n",
       "      <th>kodeakunobjek</th>\n",
       "      <th>namaakunobjek</th>\n",
       "      <th>kodeakunrincian</th>\n",
       "      <th>namaakunrincian</th>\n",
       "      <th>kodeakunsub</th>\n",
       "      <th>namaakunsub</th>\n",
       "      <th>nilaianggaran</th>\n",
       "    </tr>\n",
       "  </thead>\n",
       "  <tbody>\n",
       "    <tr>\n",
       "      <th>0</th>\n",
       "      <td>66374</td>\n",
       "      <td>990015</td>\n",
       "      <td>1.0</td>\n",
       "      <td>Provinsi Aceh</td>\n",
       "      <td>2019</td>\n",
       "      <td>14</td>\n",
       "      <td>2020-07-21 10:21:23.498</td>\n",
       "      <td>1</td>\n",
       "      <td>4</td>\n",
       "      <td>2</td>\n",
       "      <td>0</td>\n",
       "      <td>NaN</td>\n",
       "      <td>SIPKD</td>\n",
       "      <td>USADI4</td>\n",
       "      <td>91441001</td>\n",
       "      <td>0.01.</td>\n",
       "      <td>PENDIDIKAN</td>\n",
       "      <td>0.01.</td>\n",
       "      <td>PENDIDIKAN</td>\n",
       "      <td>100</td>\n",
       "      <td>DINAS PENDIDIKAN DAYAH ACEH</td>\n",
       "      <td>0.0</td>\n",
       "      <td>Non Program</td>\n",
       "      <td>0</td>\n",
       "      <td>Non Kegiatan</td>\n",
       "      <td>10.0</td>\n",
       "      <td>Pendidikan</td>\n",
       "      <td>5.0</td>\n",
       "      <td>BELANJA</td>\n",
       "      <td>1.0</td>\n",
       "      <td>BELANJA OPERASI</td>\n",
       "      <td>1.0</td>\n",
       "      <td>Belanja Pegawai</td>\n",
       "      <td>1</td>\n",
       "      <td>Belanja Gaji dan Tunjangan</td>\n",
       "      <td>4</td>\n",
       "      <td>Tunjangan Fungsional</td>\n",
       "      <td></td>\n",
       "      <td>NaN</td>\n",
       "      <td>5880000.0</td>\n",
       "    </tr>\n",
       "    <tr>\n",
       "      <th>1</th>\n",
       "      <td>66374</td>\n",
       "      <td>990015</td>\n",
       "      <td>1.0</td>\n",
       "      <td>Provinsi Aceh</td>\n",
       "      <td>2019</td>\n",
       "      <td>14</td>\n",
       "      <td>2020-07-21 10:21:23.498</td>\n",
       "      <td>1</td>\n",
       "      <td>4</td>\n",
       "      <td>2</td>\n",
       "      <td>0</td>\n",
       "      <td>NaN</td>\n",
       "      <td>SIPKD</td>\n",
       "      <td>USADI4</td>\n",
       "      <td>91441001</td>\n",
       "      <td>0.01.</td>\n",
       "      <td>PENDIDIKAN</td>\n",
       "      <td>0.01.</td>\n",
       "      <td>PENDIDIKAN</td>\n",
       "      <td>100</td>\n",
       "      <td>DINAS PENDIDIKAN DAYAH ACEH</td>\n",
       "      <td>0.0</td>\n",
       "      <td>Non Program</td>\n",
       "      <td>0</td>\n",
       "      <td>Non Kegiatan</td>\n",
       "      <td>10.0</td>\n",
       "      <td>Pendidikan</td>\n",
       "      <td>5.0</td>\n",
       "      <td>BELANJA</td>\n",
       "      <td>1.0</td>\n",
       "      <td>BELANJA OPERASI</td>\n",
       "      <td>1.0</td>\n",
       "      <td>Belanja Pegawai</td>\n",
       "      <td>1</td>\n",
       "      <td>Belanja Gaji dan Tunjangan</td>\n",
       "      <td>5</td>\n",
       "      <td>Tunjangan Fungsional Umum</td>\n",
       "      <td></td>\n",
       "      <td>NaN</td>\n",
       "      <td>80030000.0</td>\n",
       "    </tr>\n",
       "    <tr>\n",
       "      <th>2</th>\n",
       "      <td>66374</td>\n",
       "      <td>990015</td>\n",
       "      <td>1.0</td>\n",
       "      <td>Provinsi Aceh</td>\n",
       "      <td>2019</td>\n",
       "      <td>14</td>\n",
       "      <td>2020-07-21 10:21:23.498</td>\n",
       "      <td>1</td>\n",
       "      <td>4</td>\n",
       "      <td>2</td>\n",
       "      <td>0</td>\n",
       "      <td>NaN</td>\n",
       "      <td>SIPKD</td>\n",
       "      <td>USADI4</td>\n",
       "      <td>91441001</td>\n",
       "      <td>0.01.</td>\n",
       "      <td>PENDIDIKAN</td>\n",
       "      <td>0.01.</td>\n",
       "      <td>PENDIDIKAN</td>\n",
       "      <td>100</td>\n",
       "      <td>DINAS PENDIDIKAN DAYAH ACEH</td>\n",
       "      <td>0.0</td>\n",
       "      <td>Non Program</td>\n",
       "      <td>0</td>\n",
       "      <td>Non Kegiatan</td>\n",
       "      <td>10.0</td>\n",
       "      <td>Pendidikan</td>\n",
       "      <td>5.0</td>\n",
       "      <td>BELANJA</td>\n",
       "      <td>1.0</td>\n",
       "      <td>BELANJA OPERASI</td>\n",
       "      <td>1.0</td>\n",
       "      <td>Belanja Pegawai</td>\n",
       "      <td>1</td>\n",
       "      <td>Belanja Gaji dan Tunjangan</td>\n",
       "      <td>8</td>\n",
       "      <td>Pembulatan Gaji</td>\n",
       "      <td></td>\n",
       "      <td>NaN</td>\n",
       "      <td>36774.0</td>\n",
       "    </tr>\n",
       "    <tr>\n",
       "      <th>3</th>\n",
       "      <td>66374</td>\n",
       "      <td>990015</td>\n",
       "      <td>1.0</td>\n",
       "      <td>Provinsi Aceh</td>\n",
       "      <td>2019</td>\n",
       "      <td>14</td>\n",
       "      <td>2020-07-21 10:21:23.498</td>\n",
       "      <td>1</td>\n",
       "      <td>4</td>\n",
       "      <td>2</td>\n",
       "      <td>0</td>\n",
       "      <td>NaN</td>\n",
       "      <td>SIPKD</td>\n",
       "      <td>USADI4</td>\n",
       "      <td>91441001</td>\n",
       "      <td>0.01.</td>\n",
       "      <td>PENDIDIKAN</td>\n",
       "      <td>0.01.</td>\n",
       "      <td>PENDIDIKAN</td>\n",
       "      <td>100</td>\n",
       "      <td>DINAS PENDIDIKAN DAYAH ACEH</td>\n",
       "      <td>0.0</td>\n",
       "      <td>Non Program</td>\n",
       "      <td>0</td>\n",
       "      <td>Non Kegiatan</td>\n",
       "      <td>10.0</td>\n",
       "      <td>Pendidikan</td>\n",
       "      <td>5.0</td>\n",
       "      <td>BELANJA</td>\n",
       "      <td>1.0</td>\n",
       "      <td>BELANJA OPERASI</td>\n",
       "      <td>1.0</td>\n",
       "      <td>Belanja Pegawai</td>\n",
       "      <td>1</td>\n",
       "      <td>Belanja Gaji dan Tunjangan</td>\n",
       "      <td>3</td>\n",
       "      <td>Tunjangan Jabatan</td>\n",
       "      <td></td>\n",
       "      <td>NaN</td>\n",
       "      <td>240635000.0</td>\n",
       "    </tr>\n",
       "    <tr>\n",
       "      <th>4</th>\n",
       "      <td>66374</td>\n",
       "      <td>990015</td>\n",
       "      <td>1.0</td>\n",
       "      <td>Provinsi Aceh</td>\n",
       "      <td>2019</td>\n",
       "      <td>14</td>\n",
       "      <td>2020-07-21 10:21:23.498</td>\n",
       "      <td>1</td>\n",
       "      <td>4</td>\n",
       "      <td>2</td>\n",
       "      <td>0</td>\n",
       "      <td>NaN</td>\n",
       "      <td>SIPKD</td>\n",
       "      <td>USADI4</td>\n",
       "      <td>91441001</td>\n",
       "      <td>0.01.</td>\n",
       "      <td>PENDIDIKAN</td>\n",
       "      <td>0.01.</td>\n",
       "      <td>PENDIDIKAN</td>\n",
       "      <td>100</td>\n",
       "      <td>DINAS PENDIDIKAN DAYAH ACEH</td>\n",
       "      <td>0.0</td>\n",
       "      <td>Non Program</td>\n",
       "      <td>0</td>\n",
       "      <td>Non Kegiatan</td>\n",
       "      <td>10.0</td>\n",
       "      <td>Pendidikan</td>\n",
       "      <td>5.0</td>\n",
       "      <td>BELANJA</td>\n",
       "      <td>1.0</td>\n",
       "      <td>BELANJA OPERASI</td>\n",
       "      <td>1.0</td>\n",
       "      <td>Belanja Pegawai</td>\n",
       "      <td>1</td>\n",
       "      <td>Belanja Gaji dan Tunjangan</td>\n",
       "      <td>25</td>\n",
       "      <td>Tunjangan Iuran JKK PNS</td>\n",
       "      <td></td>\n",
       "      <td>NaN</td>\n",
       "      <td>5594209.0</td>\n",
       "    </tr>\n",
       "  </tbody>\n",
       "</table>\n",
       "</div>"
      ],
      "text/plain": [
       "   apbdindex  kodesatker  kodepemda      namapemda  tahunanggaran  bulan  \\\n",
       "0      66374      990015        1.0  Provinsi Aceh           2019     14   \n",
       "1      66374      990015        1.0  Provinsi Aceh           2019     14   \n",
       "2      66374      990015        1.0  Provinsi Aceh           2019     14   \n",
       "3      66374      990015        1.0  Provinsi Aceh           2019     14   \n",
       "4      66374      990015        1.0  Provinsi Aceh           2019     14   \n",
       "\n",
       "             tglpengiriman  kodedata  statusdata  jeniscoa nomorperda  \\\n",
       "0  2020-07-21 10:21:23.498         1           4         2          0   \n",
       "1  2020-07-21 10:21:23.498         1           4         2          0   \n",
       "2  2020-07-21 10:21:23.498         1           4         2          0   \n",
       "3  2020-07-21 10:21:23.498         1           4         2          0   \n",
       "4  2020-07-21 10:21:23.498         1           4         2          0   \n",
       "\n",
       "  tanggalperda namaaplikasi pengembangaplikasi  kegiatanindex  \\\n",
       "0          NaN        SIPKD             USADI4       91441001   \n",
       "1          NaN        SIPKD             USADI4       91441001   \n",
       "2          NaN        SIPKD             USADI4       91441001   \n",
       "3          NaN        SIPKD             USADI4       91441001   \n",
       "4          NaN        SIPKD             USADI4       91441001   \n",
       "\n",
       "  kodeurusanprogram namaurusanprogram kodeurusanpelaksana namaurusanpelaksana  \\\n",
       "0             0.01.        PENDIDIKAN               0.01.          PENDIDIKAN   \n",
       "1             0.01.        PENDIDIKAN               0.01.          PENDIDIKAN   \n",
       "2             0.01.        PENDIDIKAN               0.01.          PENDIDIKAN   \n",
       "3             0.01.        PENDIDIKAN               0.01.          PENDIDIKAN   \n",
       "4             0.01.        PENDIDIKAN               0.01.          PENDIDIKAN   \n",
       "\n",
       "  kodeskpd                     namaskpd  kodeprogram  namaprogram  \\\n",
       "0      100  DINAS PENDIDIKAN DAYAH ACEH          0.0  Non Program   \n",
       "1      100  DINAS PENDIDIKAN DAYAH ACEH          0.0  Non Program   \n",
       "2      100  DINAS PENDIDIKAN DAYAH ACEH          0.0  Non Program   \n",
       "3      100  DINAS PENDIDIKAN DAYAH ACEH          0.0  Non Program   \n",
       "4      100  DINAS PENDIDIKAN DAYAH ACEH          0.0  Non Program   \n",
       "\n",
       "  kodekegiatan  namakegiatan  kodefungsi  namafungsi  kodeakunutama  \\\n",
       "0            0  Non Kegiatan        10.0  Pendidikan            5.0   \n",
       "1            0  Non Kegiatan        10.0  Pendidikan            5.0   \n",
       "2            0  Non Kegiatan        10.0  Pendidikan            5.0   \n",
       "3            0  Non Kegiatan        10.0  Pendidikan            5.0   \n",
       "4            0  Non Kegiatan        10.0  Pendidikan            5.0   \n",
       "\n",
       "  namaakunutama  kodeakunkelompok namaakunkelompok  kodeakunjenis  \\\n",
       "0       BELANJA               1.0  BELANJA OPERASI            1.0   \n",
       "1       BELANJA               1.0  BELANJA OPERASI            1.0   \n",
       "2       BELANJA               1.0  BELANJA OPERASI            1.0   \n",
       "3       BELANJA               1.0  BELANJA OPERASI            1.0   \n",
       "4       BELANJA               1.0  BELANJA OPERASI            1.0   \n",
       "\n",
       "     namaakunjenis kodeakunobjek               namaakunobjek kodeakunrincian  \\\n",
       "0  Belanja Pegawai             1  Belanja Gaji dan Tunjangan               4   \n",
       "1  Belanja Pegawai             1  Belanja Gaji dan Tunjangan               5   \n",
       "2  Belanja Pegawai             1  Belanja Gaji dan Tunjangan               8   \n",
       "3  Belanja Pegawai             1  Belanja Gaji dan Tunjangan               3   \n",
       "4  Belanja Pegawai             1  Belanja Gaji dan Tunjangan              25   \n",
       "\n",
       "             namaakunrincian kodeakunsub namaakunsub  nilaianggaran  \n",
       "0       Tunjangan Fungsional                     NaN      5880000.0  \n",
       "1  Tunjangan Fungsional Umum                     NaN     80030000.0  \n",
       "2            Pembulatan Gaji                     NaN        36774.0  \n",
       "3          Tunjangan Jabatan                     NaN    240635000.0  \n",
       "4    Tunjangan Iuran JKK PNS                     NaN      5594209.0  "
      ]
     },
     "execution_count": 4,
     "metadata": {},
     "output_type": "execute_result"
    }
   ],
   "source": [
    "data.head()"
   ]
  },
  {
   "cell_type": "code",
   "execution_count": null,
   "metadata": {},
   "outputs": [],
   "source": [
    "data.info() #terdapat 6778267 rows"
   ]
  },
  {
   "cell_type": "code",
   "execution_count": 5,
   "metadata": {},
   "outputs": [
    {
     "data": {
      "text/plain": [
       "array(['BELANJA', 'PENDAPATAN  LRA', 'TRANSFER', 'PEMBIAYAAN',\n",
       "       'PENDAPATAN - LRA', 'Pembiayaan', 'BELANJA DAERAH', 'PENDAPATAN',\n",
       "       'PENDAPATAN DAERAH', 'PEMBIAYAAN DAERAH', 'PENDAPATAN-LRA',\n",
       "       'Belanja', 'Pendapatan  LRA', 'Transfer', 'Pendapatan', 'transfer',\n",
       "       'BELANJA TRANSFER', 'BELANJA  LRA', 'TRANSFER  LRA',\n",
       "       'PENDAPATAN DAERAH  LRA', 'PENDAPATAN   LRA', 'BELANJA - LRA',\n",
       "       'TRANSFER - LRA', 'PENDAPATAN\\xa0-\\xa0LRA', 'PENDAPATANLRA'],\n",
       "      dtype=object)"
      ]
     },
     "execution_count": 5,
     "metadata": {},
     "output_type": "execute_result"
    }
   ],
   "source": [
    "data['namaakunutama'].unique()"
   ]
  },
  {
   "cell_type": "markdown",
   "metadata": {},
   "source": [
    "### Kalo fokus ke belanja\n",
    "\n",
    "-> sudah dikonfirmasi Secara substansi sama, itu hanya perbedaan nomenklatur di bagan akun standar dari masing2 Pemda, -pak arif\n",
    "1. mengotomasi pemeriksaan pengajuan belanja apbn, \n",
    "2. mendeteksi fraud pengajuan belanja "
   ]
  },
  {
   "cell_type": "code",
   "execution_count": 6,
   "metadata": {},
   "outputs": [],
   "source": [
    "data_blj = data[data['namaakunutama']=='BELANJA'] \n",
    "#perlu ditambah belanja yg lain"
   ]
  },
  {
   "cell_type": "code",
   "execution_count": 7,
   "metadata": {},
   "outputs": [
    {
     "data": {
      "text/plain": [
       "(6250823, 40)"
      ]
     },
     "execution_count": 7,
     "metadata": {},
     "output_type": "execute_result"
    }
   ],
   "source": [
    "data_blj.shape "
   ]
  },
  {
   "cell_type": "code",
   "execution_count": 8,
   "metadata": {},
   "outputs": [],
   "source": [
    "#ambil kolom yang diperlukan\n",
    "datacl = data[['namapemda', 'kodedata', 'statusdata', 'jeniscoa', 'namaurusanprogram', 'namaurusanpelaksana', 'namaskpd', 'namaprogram', 'namakegiatan', 'namafungsi', 'namaakunkelompok', 'namaakunjenis', 'namaakunobjek', 'namaakunrincian', 'nilaianggaran']]"
   ]
  },
  {
   "cell_type": "markdown",
   "metadata": {},
   "source": [
    "# DATA CLEANING"
   ]
  },
  {
   "cell_type": "code",
   "execution_count": 9,
   "metadata": {},
   "outputs": [
    {
     "data": {
      "text/plain": [
       "namapemda                  0\n",
       "kodedata                   0\n",
       "statusdata                 0\n",
       "jeniscoa                   0\n",
       "namaurusanprogram          0\n",
       "namaurusanpelaksana        0\n",
       "namaskpd                   0\n",
       "namaprogram            65436\n",
       "namakegiatan           76560\n",
       "namafungsi              6049\n",
       "namaakunkelompok           0\n",
       "namaakunjenis             11\n",
       "namaakunobjek            440\n",
       "namaakunrincian        28959\n",
       "nilaianggaran              0\n",
       "dtype: int64"
      ]
     },
     "execution_count": 9,
     "metadata": {},
     "output_type": "execute_result"
    }
   ],
   "source": [
    "#cek data kosong\n",
    "datacl.isnull().sum()"
   ]
  },
  {
   "cell_type": "code",
   "execution_count": 10,
   "metadata": {},
   "outputs": [],
   "source": [
    "#hapus missing values-> sulit menentukan jika ingin mengisi missing values\n",
    "datacl = datacl.dropna()"
   ]
  },
  {
   "cell_type": "markdown",
   "metadata": {},
   "source": [
    "# Eksplorasi Data Analisis"
   ]
  },
  {
   "cell_type": "code",
   "execution_count": 11,
   "metadata": {
    "scrolled": true
   },
   "outputs": [
    {
     "data": {
      "text/plain": [
       "count    6.660209e+06\n",
       "mean     4.240852e+08\n",
       "std      1.674798e+10\n",
       "min     -1.435190e+11\n",
       "25%      1.651500e+06\n",
       "50%      6.860000e+06\n",
       "75%      3.000000e+07\n",
       "max      1.496154e+13\n",
       "Name: nilaianggaran, dtype: float64"
      ]
     },
     "execution_count": 11,
     "metadata": {},
     "output_type": "execute_result"
    }
   ],
   "source": [
    "datacl['nilaianggaran'].describe() #loh kok ada biaya minus? -> confirmed: buat nyeimbangin akuntansinya, katanya~~"
   ]
  },
  {
   "cell_type": "markdown",
   "metadata": {},
   "source": [
    "75% data berada di range -143.519.000.000 ke 30.000.000, sedangkan nilai maksimal 1.496154x10^13"
   ]
  },
  {
   "cell_type": "code",
   "execution_count": 12,
   "metadata": {},
   "outputs": [
    {
     "data": {
      "text/html": [
       "<div>\n",
       "<style scoped>\n",
       "    .dataframe tbody tr th:only-of-type {\n",
       "        vertical-align: middle;\n",
       "    }\n",
       "\n",
       "    .dataframe tbody tr th {\n",
       "        vertical-align: top;\n",
       "    }\n",
       "\n",
       "    .dataframe thead th {\n",
       "        text-align: right;\n",
       "    }\n",
       "</style>\n",
       "<table border=\"1\" class=\"dataframe\">\n",
       "  <thead>\n",
       "    <tr style=\"text-align: right;\">\n",
       "      <th></th>\n",
       "      <th>namapemda</th>\n",
       "      <th>kodedata</th>\n",
       "      <th>statusdata</th>\n",
       "      <th>jeniscoa</th>\n",
       "      <th>namaurusanprogram</th>\n",
       "      <th>namaurusanpelaksana</th>\n",
       "      <th>namaskpd</th>\n",
       "      <th>namaprogram</th>\n",
       "      <th>namakegiatan</th>\n",
       "      <th>namafungsi</th>\n",
       "      <th>namaakunkelompok</th>\n",
       "      <th>namaakunjenis</th>\n",
       "      <th>namaakunobjek</th>\n",
       "      <th>namaakunrincian</th>\n",
       "      <th>nilaianggaran</th>\n",
       "    </tr>\n",
       "  </thead>\n",
       "  <tbody>\n",
       "    <tr>\n",
       "      <th>0</th>\n",
       "      <td>Provinsi Aceh</td>\n",
       "      <td>1</td>\n",
       "      <td>4</td>\n",
       "      <td>2</td>\n",
       "      <td>PENDIDIKAN</td>\n",
       "      <td>PENDIDIKAN</td>\n",
       "      <td>DINAS PENDIDIKAN DAYAH ACEH</td>\n",
       "      <td>Non Program</td>\n",
       "      <td>Non Kegiatan</td>\n",
       "      <td>Pendidikan</td>\n",
       "      <td>BELANJA OPERASI</td>\n",
       "      <td>Belanja Pegawai</td>\n",
       "      <td>Belanja Gaji dan Tunjangan</td>\n",
       "      <td>Tunjangan Fungsional</td>\n",
       "      <td>5880000.0</td>\n",
       "    </tr>\n",
       "    <tr>\n",
       "      <th>1</th>\n",
       "      <td>Provinsi Aceh</td>\n",
       "      <td>1</td>\n",
       "      <td>4</td>\n",
       "      <td>2</td>\n",
       "      <td>PENDIDIKAN</td>\n",
       "      <td>PENDIDIKAN</td>\n",
       "      <td>DINAS PENDIDIKAN DAYAH ACEH</td>\n",
       "      <td>Non Program</td>\n",
       "      <td>Non Kegiatan</td>\n",
       "      <td>Pendidikan</td>\n",
       "      <td>BELANJA OPERASI</td>\n",
       "      <td>Belanja Pegawai</td>\n",
       "      <td>Belanja Gaji dan Tunjangan</td>\n",
       "      <td>Tunjangan Fungsional Umum</td>\n",
       "      <td>80030000.0</td>\n",
       "    </tr>\n",
       "    <tr>\n",
       "      <th>2</th>\n",
       "      <td>Provinsi Aceh</td>\n",
       "      <td>1</td>\n",
       "      <td>4</td>\n",
       "      <td>2</td>\n",
       "      <td>PENDIDIKAN</td>\n",
       "      <td>PENDIDIKAN</td>\n",
       "      <td>DINAS PENDIDIKAN DAYAH ACEH</td>\n",
       "      <td>Non Program</td>\n",
       "      <td>Non Kegiatan</td>\n",
       "      <td>Pendidikan</td>\n",
       "      <td>BELANJA OPERASI</td>\n",
       "      <td>Belanja Pegawai</td>\n",
       "      <td>Belanja Gaji dan Tunjangan</td>\n",
       "      <td>Pembulatan Gaji</td>\n",
       "      <td>36774.0</td>\n",
       "    </tr>\n",
       "    <tr>\n",
       "      <th>3</th>\n",
       "      <td>Provinsi Aceh</td>\n",
       "      <td>1</td>\n",
       "      <td>4</td>\n",
       "      <td>2</td>\n",
       "      <td>PENDIDIKAN</td>\n",
       "      <td>PENDIDIKAN</td>\n",
       "      <td>DINAS PENDIDIKAN DAYAH ACEH</td>\n",
       "      <td>Non Program</td>\n",
       "      <td>Non Kegiatan</td>\n",
       "      <td>Pendidikan</td>\n",
       "      <td>BELANJA OPERASI</td>\n",
       "      <td>Belanja Pegawai</td>\n",
       "      <td>Belanja Gaji dan Tunjangan</td>\n",
       "      <td>Tunjangan Jabatan</td>\n",
       "      <td>240635000.0</td>\n",
       "    </tr>\n",
       "    <tr>\n",
       "      <th>4</th>\n",
       "      <td>Provinsi Aceh</td>\n",
       "      <td>1</td>\n",
       "      <td>4</td>\n",
       "      <td>2</td>\n",
       "      <td>PENDIDIKAN</td>\n",
       "      <td>PENDIDIKAN</td>\n",
       "      <td>DINAS PENDIDIKAN DAYAH ACEH</td>\n",
       "      <td>Non Program</td>\n",
       "      <td>Non Kegiatan</td>\n",
       "      <td>Pendidikan</td>\n",
       "      <td>BELANJA OPERASI</td>\n",
       "      <td>Belanja Pegawai</td>\n",
       "      <td>Belanja Gaji dan Tunjangan</td>\n",
       "      <td>Tunjangan Iuran JKK PNS</td>\n",
       "      <td>5594209.0</td>\n",
       "    </tr>\n",
       "  </tbody>\n",
       "</table>\n",
       "</div>"
      ],
      "text/plain": [
       "       namapemda  kodedata  statusdata  jeniscoa namaurusanprogram  \\\n",
       "0  Provinsi Aceh         1           4         2        PENDIDIKAN   \n",
       "1  Provinsi Aceh         1           4         2        PENDIDIKAN   \n",
       "2  Provinsi Aceh         1           4         2        PENDIDIKAN   \n",
       "3  Provinsi Aceh         1           4         2        PENDIDIKAN   \n",
       "4  Provinsi Aceh         1           4         2        PENDIDIKAN   \n",
       "\n",
       "  namaurusanpelaksana                     namaskpd  namaprogram  namakegiatan  \\\n",
       "0          PENDIDIKAN  DINAS PENDIDIKAN DAYAH ACEH  Non Program  Non Kegiatan   \n",
       "1          PENDIDIKAN  DINAS PENDIDIKAN DAYAH ACEH  Non Program  Non Kegiatan   \n",
       "2          PENDIDIKAN  DINAS PENDIDIKAN DAYAH ACEH  Non Program  Non Kegiatan   \n",
       "3          PENDIDIKAN  DINAS PENDIDIKAN DAYAH ACEH  Non Program  Non Kegiatan   \n",
       "4          PENDIDIKAN  DINAS PENDIDIKAN DAYAH ACEH  Non Program  Non Kegiatan   \n",
       "\n",
       "   namafungsi namaakunkelompok    namaakunjenis               namaakunobjek  \\\n",
       "0  Pendidikan  BELANJA OPERASI  Belanja Pegawai  Belanja Gaji dan Tunjangan   \n",
       "1  Pendidikan  BELANJA OPERASI  Belanja Pegawai  Belanja Gaji dan Tunjangan   \n",
       "2  Pendidikan  BELANJA OPERASI  Belanja Pegawai  Belanja Gaji dan Tunjangan   \n",
       "3  Pendidikan  BELANJA OPERASI  Belanja Pegawai  Belanja Gaji dan Tunjangan   \n",
       "4  Pendidikan  BELANJA OPERASI  Belanja Pegawai  Belanja Gaji dan Tunjangan   \n",
       "\n",
       "             namaakunrincian  nilaianggaran  \n",
       "0       Tunjangan Fungsional      5880000.0  \n",
       "1  Tunjangan Fungsional Umum     80030000.0  \n",
       "2            Pembulatan Gaji        36774.0  \n",
       "3          Tunjangan Jabatan    240635000.0  \n",
       "4    Tunjangan Iuran JKK PNS      5594209.0  "
      ]
     },
     "execution_count": 12,
     "metadata": {},
     "output_type": "execute_result"
    }
   ],
   "source": [
    "datanoneg = datacl[datacl['nilaianggaran'] > 0] #abaikan aja dulu\n",
    "datanoneg.head()"
   ]
  },
  {
   "cell_type": "code",
   "execution_count": 13,
   "metadata": {
    "scrolled": true
   },
   "outputs": [
    {
     "data": {
      "image/png": "[encoded data removed]",
      "text/plain": [
       "<Figure size 432x288 with 1 Axes>"
      ]
     },
     "metadata": {
      "needs_background": "light"
     },
     "output_type": "display_data"
    }
   ],
   "source": [
    "#liat distribusi data nilai anggaran\n",
    "# Creating plot\n",
    "plt.boxplot(datacl['nilaianggaran'])\n",
    "  \n",
    "# show plot\n",
    "plt.show() #tambah aneh\n",
    "#banyak outlier == pake metode non parametrik"
   ]
  },
  {
   "cell_type": "code",
   "execution_count": 15,
   "metadata": {
    "scrolled": true
   },
   "outputs": [
    {
     "data": {
      "text/plain": [
       "<matplotlib.axes._subplots.AxesSubplot at 0x21089927b20>"
      ]
     },
     "execution_count": 15,
     "metadata": {},
     "output_type": "execute_result"
    },
    {
     "data": {
      "image/png": "[encoded data removed]",
      "text/plain": [
       "<Figure size 432x288 with 1 Axes>"
      ]
     },
     "metadata": {
      "needs_background": "light"
     },
     "output_type": "display_data"
    }
   ],
   "source": [
    "#cek histogram\n",
    "datacl[\"nilaianggaran\"].hist(bins= 50) \n",
    "# data yg berkumpul di<0,01e+13 ada 6,6 juta lebih"
   ]
  },
  {
   "cell_type": "code",
   "execution_count": 14,
   "metadata": {},
   "outputs": [
    {
     "data": {
      "text/html": [
       "<div>\n",
       "<style scoped>\n",
       "    .dataframe tbody tr th:only-of-type {\n",
       "        vertical-align: middle;\n",
       "    }\n",
       "\n",
       "    .dataframe tbody tr th {\n",
       "        vertical-align: top;\n",
       "    }\n",
       "\n",
       "    .dataframe thead th {\n",
       "        text-align: right;\n",
       "    }\n",
       "</style>\n",
       "<table border=\"1\" class=\"dataframe\">\n",
       "  <thead>\n",
       "    <tr style=\"text-align: right;\">\n",
       "      <th></th>\n",
       "      <th>namapemda</th>\n",
       "      <th>kodedata</th>\n",
       "      <th>statusdata</th>\n",
       "      <th>jeniscoa</th>\n",
       "      <th>namaurusanprogram</th>\n",
       "      <th>namaurusanpelaksana</th>\n",
       "      <th>namaskpd</th>\n",
       "      <th>namaprogram</th>\n",
       "      <th>namakegiatan</th>\n",
       "      <th>namafungsi</th>\n",
       "      <th>namaakunkelompok</th>\n",
       "      <th>namaakunjenis</th>\n",
       "      <th>namaakunobjek</th>\n",
       "      <th>namaakunrincian</th>\n",
       "      <th>nilaianggaran</th>\n",
       "    </tr>\n",
       "  </thead>\n",
       "  <tbody>\n",
       "    <tr>\n",
       "      <th>18570</th>\n",
       "      <td>Kota Padang Sidempuan</td>\n",
       "      <td>1</td>\n",
       "      <td>4</td>\n",
       "      <td>2</td>\n",
       "      <td>Urusan Wajib Pelayanan Dasar Kesehatan</td>\n",
       "      <td>Urusan Wajib Pelayanan Dasar Kesehatan</td>\n",
       "      <td>RUMAH SAKIT UMUM DAERAH</td>\n",
       "      <td>Non Program</td>\n",
       "      <td>Non Kegiatan</td>\n",
       "      <td>Kesehatan</td>\n",
       "      <td>BELANJA OPERASI</td>\n",
       "      <td>Belanja Barang dan Jasa</td>\n",
       "      <td>Belanja Jasa Kantor</td>\n",
       "      <td>Belanja Air</td>\n",
       "      <td>-30000.0</td>\n",
       "    </tr>\n",
       "    <tr>\n",
       "      <th>18571</th>\n",
       "      <td>Kota Padang Sidempuan</td>\n",
       "      <td>1</td>\n",
       "      <td>4</td>\n",
       "      <td>2</td>\n",
       "      <td>Urusan Wajib Pelayanan Dasar Kesehatan</td>\n",
       "      <td>Urusan Wajib Pelayanan Dasar Kesehatan</td>\n",
       "      <td>RUMAH SAKIT UMUM DAERAH</td>\n",
       "      <td>Non Program</td>\n",
       "      <td>Non Kegiatan</td>\n",
       "      <td>Kesehatan</td>\n",
       "      <td>BELANJA OPERASI</td>\n",
       "      <td>Belanja Barang dan Jasa</td>\n",
       "      <td>Belanja Kursus, Pelatihan, Sosialisasi dan Bim...</td>\n",
       "      <td>Belanja Bimbingan Teknis</td>\n",
       "      <td>-1877000.0</td>\n",
       "    </tr>\n",
       "    <tr>\n",
       "      <th>35982</th>\n",
       "      <td>Provinsi Lampung</td>\n",
       "      <td>0</td>\n",
       "      <td>4</td>\n",
       "      <td>2</td>\n",
       "      <td>Urusan Pemerintahan Fungsi Penunjang Keuangan</td>\n",
       "      <td>Urusan Pemerintahan Fungsi Penunjang Keuangan</td>\n",
       "      <td>PPKD</td>\n",
       "      <td>Non Program</td>\n",
       "      <td>Non Kegiatan</td>\n",
       "      <td>Pelayanan Umum</td>\n",
       "      <td>PENERIMAAN PEMBIAYAAN</td>\n",
       "      <td>Penggunaan SiLPA</td>\n",
       "      <td>Koreksi SiLPA</td>\n",
       "      <td>Lain-lain</td>\n",
       "      <td>-71184050.0</td>\n",
       "    </tr>\n",
       "    <tr>\n",
       "      <th>38585</th>\n",
       "      <td>Kab. Aceh Barat Daya</td>\n",
       "      <td>1</td>\n",
       "      <td>4</td>\n",
       "      <td>2</td>\n",
       "      <td>Urusan Wajib Pelayanan Dasar Kesehatan</td>\n",
       "      <td>Urusan Wajib Pelayanan Dasar Kesehatan</td>\n",
       "      <td>Dinas Kesehatan</td>\n",
       "      <td>Program Standarisasi Pelayanan Kesehatan</td>\n",
       "      <td>Penyusunan standar pelayanan kesehatan</td>\n",
       "      <td>Kesehatan</td>\n",
       "      <td>BELANJA OPERASI</td>\n",
       "      <td>Belanja Pegawai</td>\n",
       "      <td>Belanja Honorarium PNS</td>\n",
       "      <td>Honorarium Panitia Pelaksana Kegiatan</td>\n",
       "      <td>-2900000.0</td>\n",
       "    </tr>\n",
       "    <tr>\n",
       "      <th>42022</th>\n",
       "      <td>Kab. Aceh Barat Daya</td>\n",
       "      <td>1</td>\n",
       "      <td>4</td>\n",
       "      <td>2</td>\n",
       "      <td>Urusan Pemerintahan Fungsi Penunjang Keuangan</td>\n",
       "      <td>Urusan Pemerintahan Fungsi Penunjang Keuangan</td>\n",
       "      <td>Badan Keuangan</td>\n",
       "      <td>Non Program</td>\n",
       "      <td>Non Kegiatan</td>\n",
       "      <td>Pelayanan Umum</td>\n",
       "      <td>PENERIMAAN PEMBIAYAAN</td>\n",
       "      <td>Penggunaan SiLPA</td>\n",
       "      <td>Koreksi SiLPA</td>\n",
       "      <td>Lain-lain</td>\n",
       "      <td>-8400000.0</td>\n",
       "    </tr>\n",
       "  </tbody>\n",
       "</table>\n",
       "</div>"
      ],
      "text/plain": [
       "                   namapemda  kodedata  statusdata  jeniscoa  \\\n",
       "18570  Kota Padang Sidempuan         1           4         2   \n",
       "18571  Kota Padang Sidempuan         1           4         2   \n",
       "35982       Provinsi Lampung         0           4         2   \n",
       "38585   Kab. Aceh Barat Daya         1           4         2   \n",
       "42022   Kab. Aceh Barat Daya         1           4         2   \n",
       "\n",
       "                                   namaurusanprogram  \\\n",
       "18570         Urusan Wajib Pelayanan Dasar Kesehatan   \n",
       "18571         Urusan Wajib Pelayanan Dasar Kesehatan   \n",
       "35982  Urusan Pemerintahan Fungsi Penunjang Keuangan   \n",
       "38585         Urusan Wajib Pelayanan Dasar Kesehatan   \n",
       "42022  Urusan Pemerintahan Fungsi Penunjang Keuangan   \n",
       "\n",
       "                                 namaurusanpelaksana                 namaskpd  \\\n",
       "18570         Urusan Wajib Pelayanan Dasar Kesehatan  RUMAH SAKIT UMUM DAERAH   \n",
       "18571         Urusan Wajib Pelayanan Dasar Kesehatan  RUMAH SAKIT UMUM DAERAH   \n",
       "35982  Urusan Pemerintahan Fungsi Penunjang Keuangan                     PPKD   \n",
       "38585         Urusan Wajib Pelayanan Dasar Kesehatan          Dinas Kesehatan   \n",
       "42022  Urusan Pemerintahan Fungsi Penunjang Keuangan           Badan Keuangan   \n",
       "\n",
       "                                    namaprogram  \\\n",
       "18570                               Non Program   \n",
       "18571                               Non Program   \n",
       "35982                               Non Program   \n",
       "38585  Program Standarisasi Pelayanan Kesehatan   \n",
       "42022                               Non Program   \n",
       "\n",
       "                                 namakegiatan      namafungsi  \\\n",
       "18570                            Non Kegiatan       Kesehatan   \n",
       "18571                            Non Kegiatan       Kesehatan   \n",
       "35982                            Non Kegiatan  Pelayanan Umum   \n",
       "38585  Penyusunan standar pelayanan kesehatan       Kesehatan   \n",
       "42022                            Non Kegiatan  Pelayanan Umum   \n",
       "\n",
       "            namaakunkelompok            namaakunjenis  \\\n",
       "18570        BELANJA OPERASI  Belanja Barang dan Jasa   \n",
       "18571        BELANJA OPERASI  Belanja Barang dan Jasa   \n",
       "35982  PENERIMAAN PEMBIAYAAN         Penggunaan SiLPA   \n",
       "38585        BELANJA OPERASI          Belanja Pegawai   \n",
       "42022  PENERIMAAN PEMBIAYAAN         Penggunaan SiLPA   \n",
       "\n",
       "                                           namaakunobjek  \\\n",
       "18570                                Belanja Jasa Kantor   \n",
       "18571  Belanja Kursus, Pelatihan, Sosialisasi dan Bim...   \n",
       "35982                                      Koreksi SiLPA   \n",
       "38585                             Belanja Honorarium PNS   \n",
       "42022                                      Koreksi SiLPA   \n",
       "\n",
       "                             namaakunrincian  nilaianggaran  \n",
       "18570                            Belanja Air       -30000.0  \n",
       "18571               Belanja Bimbingan Teknis     -1877000.0  \n",
       "35982                              Lain-lain    -71184050.0  \n",
       "38585  Honorarium Panitia Pelaksana Kegiatan     -2900000.0  \n",
       "42022                              Lain-lain     -8400000.0  "
      ]
     },
     "execution_count": 14,
     "metadata": {},
     "output_type": "execute_result"
    }
   ],
   "source": [
    "datamin = datacl[datacl['nilaianggaran'] < 0] \n",
    "datamin.head()"
   ]
  },
  {
   "cell_type": "code",
   "execution_count": 15,
   "metadata": {},
   "outputs": [
    {
     "data": {
      "text/plain": [
       "(5694, 15)"
      ]
     },
     "execution_count": 15,
     "metadata": {},
     "output_type": "execute_result"
    }
   ],
   "source": [
    "datamin.shape #there's 5694 minus"
   ]
  },
  {
   "cell_type": "code",
   "execution_count": 16,
   "metadata": {},
   "outputs": [
    {
     "data": {
      "text/html": [
       "<div>\n",
       "<style scoped>\n",
       "    .dataframe tbody tr th:only-of-type {\n",
       "        vertical-align: middle;\n",
       "    }\n",
       "\n",
       "    .dataframe tbody tr th {\n",
       "        vertical-align: top;\n",
       "    }\n",
       "\n",
       "    .dataframe thead th {\n",
       "        text-align: right;\n",
       "    }\n",
       "</style>\n",
       "<table border=\"1\" class=\"dataframe\">\n",
       "  <thead>\n",
       "    <tr style=\"text-align: right;\">\n",
       "      <th></th>\n",
       "      <th>namapemda</th>\n",
       "      <th>kodedata</th>\n",
       "      <th>statusdata</th>\n",
       "      <th>jeniscoa</th>\n",
       "      <th>namaurusanprogram</th>\n",
       "      <th>namaurusanpelaksana</th>\n",
       "      <th>namaskpd</th>\n",
       "      <th>namaprogram</th>\n",
       "      <th>namakegiatan</th>\n",
       "      <th>namafungsi</th>\n",
       "      <th>namaakunkelompok</th>\n",
       "      <th>namaakunjenis</th>\n",
       "      <th>namaakunobjek</th>\n",
       "      <th>namaakunrincian</th>\n",
       "      <th>nilaianggaran</th>\n",
       "    </tr>\n",
       "  </thead>\n",
       "  <tbody>\n",
       "    <tr>\n",
       "      <th>6760070</th>\n",
       "      <td>Kab. Lampung Tengah</td>\n",
       "      <td>1</td>\n",
       "      <td>4</td>\n",
       "      <td>2</td>\n",
       "      <td>Urusan Wajib Pelayanan Dasar Pendidikan</td>\n",
       "      <td>Urusan Wajib Pelayanan Dasar Pendidikan</td>\n",
       "      <td>DINAS PENDIDIKAN DAN KEBUDAYAAN</td>\n",
       "      <td>Non Program</td>\n",
       "      <td>Non Kegiatan</td>\n",
       "      <td>Pendidikan</td>\n",
       "      <td>PENDAPATAN ASLI DAERAH PAD  LRA</td>\n",
       "      <td>Lainlain PAD Yang Sah  LRA</td>\n",
       "      <td>Dana BOS</td>\n",
       "      <td>Dana BOS</td>\n",
       "      <td>-1.435190e+11</td>\n",
       "    </tr>\n",
       "    <tr>\n",
       "      <th>3343844</th>\n",
       "      <td>Kab. Lampung Tengah</td>\n",
       "      <td>1</td>\n",
       "      <td>4</td>\n",
       "      <td>2</td>\n",
       "      <td>Urusan Wajib Pelayanan Dasar Pendidikan</td>\n",
       "      <td>Urusan Wajib Pelayanan Dasar Pendidikan</td>\n",
       "      <td>DINAS PENDIDIKAN DAN KEBUDAYAAN</td>\n",
       "      <td>Non Program</td>\n",
       "      <td>Non Kegiatan</td>\n",
       "      <td>Pendidikan</td>\n",
       "      <td>PENDAPATAN ASLI DAERAH (PAD) - LRA</td>\n",
       "      <td>Lain-lain PAD Yang Sah - LRA</td>\n",
       "      <td>Pendapatan dana BOS</td>\n",
       "      <td>Pendapatan dana BOS</td>\n",
       "      <td>-1.282886e+11</td>\n",
       "    </tr>\n",
       "    <tr>\n",
       "      <th>4975878</th>\n",
       "      <td>Kota Surabaya</td>\n",
       "      <td>1</td>\n",
       "      <td>4</td>\n",
       "      <td>2</td>\n",
       "      <td>Wajib Otonomi Daerah Pemerintahan Umum Adminis...</td>\n",
       "      <td>Wajib Otonomi Daerah Pemerintahan Umum Adminis...</td>\n",
       "      <td>Badan Pengelolaan Keuangan dan Pajak Daerah</td>\n",
       "      <td>Non Program</td>\n",
       "      <td>Pembiayaan Badan Pengelolaan Keuangan dan Paja...</td>\n",
       "      <td>Otonomi Daerah Pemerintahan Umum Administrasi ...</td>\n",
       "      <td>PENERIMAAN PEMBIAYAAN</td>\n",
       "      <td>Penggunaan SiLPA</td>\n",
       "      <td>Penggunaan SiLPA tahun sebelumnya</td>\n",
       "      <td>Bagi Hasil Pajak</td>\n",
       "      <td>-1.147781e+11</td>\n",
       "    </tr>\n",
       "    <tr>\n",
       "      <th>4975880</th>\n",
       "      <td>Kota Surabaya</td>\n",
       "      <td>1</td>\n",
       "      <td>4</td>\n",
       "      <td>2</td>\n",
       "      <td>Wajib Otonomi Daerah Pemerintahan Umum Adminis...</td>\n",
       "      <td>Wajib Otonomi Daerah Pemerintahan Umum Adminis...</td>\n",
       "      <td>Badan Pengelolaan Keuangan dan Pajak Daerah</td>\n",
       "      <td>Non Program</td>\n",
       "      <td>Pembiayaan Badan Pengelolaan Keuangan dan Paja...</td>\n",
       "      <td>Otonomi Daerah Pemerintahan Umum Administrasi ...</td>\n",
       "      <td>PENERIMAAN PEMBIAYAAN</td>\n",
       "      <td>Penggunaan SiLPA</td>\n",
       "      <td>Penggunaan SiLPA tahun sebelumnya</td>\n",
       "      <td>Penerimaan Lainlain Pendapatan Daerah Yang Sah</td>\n",
       "      <td>-1.146775e+11</td>\n",
       "    </tr>\n",
       "    <tr>\n",
       "      <th>398788</th>\n",
       "      <td>Kab. Trenggalek</td>\n",
       "      <td>1</td>\n",
       "      <td>4</td>\n",
       "      <td>2</td>\n",
       "      <td>Urusan Pemerintahan Fungsi Penunjang Keuangan</td>\n",
       "      <td>Urusan Pemerintahan Fungsi Penunjang Keuangan</td>\n",
       "      <td>Badan Keuangan Daerah</td>\n",
       "      <td>Non Program</td>\n",
       "      <td>Non Kegiatan</td>\n",
       "      <td>Pelayanan Umum</td>\n",
       "      <td>BELANJA OPERASI</td>\n",
       "      <td>Belanja Barang dan Jasa</td>\n",
       "      <td>Belanja Jasa Kantor</td>\n",
       "      <td>Belanja Telepon  LRA</td>\n",
       "      <td>-1.139487e+11</td>\n",
       "    </tr>\n",
       "  </tbody>\n",
       "</table>\n",
       "</div>"
      ],
      "text/plain": [
       "                   namapemda  kodedata  statusdata  jeniscoa  \\\n",
       "6760070  Kab. Lampung Tengah         1           4         2   \n",
       "3343844  Kab. Lampung Tengah         1           4         2   \n",
       "4975878        Kota Surabaya         1           4         2   \n",
       "4975880        Kota Surabaya         1           4         2   \n",
       "398788       Kab. Trenggalek         1           4         2   \n",
       "\n",
       "                                         namaurusanprogram  \\\n",
       "6760070            Urusan Wajib Pelayanan Dasar Pendidikan   \n",
       "3343844            Urusan Wajib Pelayanan Dasar Pendidikan   \n",
       "4975878  Wajib Otonomi Daerah Pemerintahan Umum Adminis...   \n",
       "4975880  Wajib Otonomi Daerah Pemerintahan Umum Adminis...   \n",
       "398788       Urusan Pemerintahan Fungsi Penunjang Keuangan   \n",
       "\n",
       "                                       namaurusanpelaksana  \\\n",
       "6760070            Urusan Wajib Pelayanan Dasar Pendidikan   \n",
       "3343844            Urusan Wajib Pelayanan Dasar Pendidikan   \n",
       "4975878  Wajib Otonomi Daerah Pemerintahan Umum Adminis...   \n",
       "4975880  Wajib Otonomi Daerah Pemerintahan Umum Adminis...   \n",
       "398788       Urusan Pemerintahan Fungsi Penunjang Keuangan   \n",
       "\n",
       "                                            namaskpd  namaprogram  \\\n",
       "6760070              DINAS PENDIDIKAN DAN KEBUDAYAAN  Non Program   \n",
       "3343844              DINAS PENDIDIKAN DAN KEBUDAYAAN  Non Program   \n",
       "4975878  Badan Pengelolaan Keuangan dan Pajak Daerah  Non Program   \n",
       "4975880  Badan Pengelolaan Keuangan dan Pajak Daerah  Non Program   \n",
       "398788                         Badan Keuangan Daerah  Non Program   \n",
       "\n",
       "                                              namakegiatan  \\\n",
       "6760070                                       Non Kegiatan   \n",
       "3343844                                       Non Kegiatan   \n",
       "4975878  Pembiayaan Badan Pengelolaan Keuangan dan Paja...   \n",
       "4975880  Pembiayaan Badan Pengelolaan Keuangan dan Paja...   \n",
       "398788                                        Non Kegiatan   \n",
       "\n",
       "                                                namafungsi  \\\n",
       "6760070                                         Pendidikan   \n",
       "3343844                                         Pendidikan   \n",
       "4975878  Otonomi Daerah Pemerintahan Umum Administrasi ...   \n",
       "4975880  Otonomi Daerah Pemerintahan Umum Administrasi ...   \n",
       "398788                                      Pelayanan Umum   \n",
       "\n",
       "                           namaakunkelompok                 namaakunjenis  \\\n",
       "6760070     PENDAPATAN ASLI DAERAH PAD  LRA    Lainlain PAD Yang Sah  LRA   \n",
       "3343844  PENDAPATAN ASLI DAERAH (PAD) - LRA  Lain-lain PAD Yang Sah - LRA   \n",
       "4975878               PENERIMAAN PEMBIAYAAN              Penggunaan SiLPA   \n",
       "4975880               PENERIMAAN PEMBIAYAAN              Penggunaan SiLPA   \n",
       "398788                      BELANJA OPERASI       Belanja Barang dan Jasa   \n",
       "\n",
       "                             namaakunobjek  \\\n",
       "6760070                           Dana BOS   \n",
       "3343844                Pendapatan dana BOS   \n",
       "4975878  Penggunaan SiLPA tahun sebelumnya   \n",
       "4975880  Penggunaan SiLPA tahun sebelumnya   \n",
       "398788                 Belanja Jasa Kantor   \n",
       "\n",
       "                                        namaakunrincian  nilaianggaran  \n",
       "6760070                                        Dana BOS  -1.435190e+11  \n",
       "3343844                             Pendapatan dana BOS  -1.282886e+11  \n",
       "4975878                                Bagi Hasil Pajak  -1.147781e+11  \n",
       "4975880  Penerimaan Lainlain Pendapatan Daerah Yang Sah  -1.146775e+11  \n",
       "398788                             Belanja Telepon  LRA  -1.139487e+11  "
      ]
     },
     "execution_count": 16,
     "metadata": {},
     "output_type": "execute_result"
    }
   ],
   "source": [
    "sortmin= datamin.sort_values( by=\"nilaianggaran\",ascending=True) #urutin dari gede ke kecil\n",
    "sortmin.head()"
   ]
  },
  {
   "cell_type": "code",
   "execution_count": 17,
   "metadata": {},
   "outputs": [],
   "source": [
    "df= sortmin[['namapemda','nilaianggaran']] #ambil 2 variabel"
   ]
  },
  {
   "cell_type": "code",
   "execution_count": 21,
   "metadata": {},
   "outputs": [],
   "source": [
    "df2 = pd.pivot_table(df, index=['namapemda'],values=['nilaianggaran'],aggfunc='sum') #totalin per pemda"
   ]
  },
  {
   "cell_type": "code",
   "execution_count": 23,
   "metadata": {},
   "outputs": [
    {
     "data": {
      "text/html": [
       "<div>\n",
       "<style scoped>\n",
       "    .dataframe tbody tr th:only-of-type {\n",
       "        vertical-align: middle;\n",
       "    }\n",
       "\n",
       "    .dataframe tbody tr th {\n",
       "        vertical-align: top;\n",
       "    }\n",
       "\n",
       "    .dataframe thead th {\n",
       "        text-align: right;\n",
       "    }\n",
       "</style>\n",
       "<table border=\"1\" class=\"dataframe\">\n",
       "  <thead>\n",
       "    <tr style=\"text-align: right;\">\n",
       "      <th></th>\n",
       "      <th>nilaianggaran</th>\n",
       "    </tr>\n",
       "    <tr>\n",
       "      <th>namapemda</th>\n",
       "      <th></th>\n",
       "    </tr>\n",
       "  </thead>\n",
       "  <tbody>\n",
       "    <tr>\n",
       "      <th>Kota Surabaya</th>\n",
       "      <td>-4.939111e+11</td>\n",
       "    </tr>\n",
       "    <tr>\n",
       "      <th>Kab. Lampung Tengah</th>\n",
       "      <td>-2.721056e+11</td>\n",
       "    </tr>\n",
       "    <tr>\n",
       "      <th>Kab. Kerinci</th>\n",
       "      <td>-2.068176e+11</td>\n",
       "    </tr>\n",
       "    <tr>\n",
       "      <th>Kab. Trenggalek</th>\n",
       "      <td>-1.685698e+11</td>\n",
       "    </tr>\n",
       "    <tr>\n",
       "      <th>Kab. Sidoarjo</th>\n",
       "      <td>-1.672882e+11</td>\n",
       "    </tr>\n",
       "    <tr>\n",
       "      <th>Kab. Pangkajene Kepulauan</th>\n",
       "      <td>-1.630154e+11</td>\n",
       "    </tr>\n",
       "    <tr>\n",
       "      <th>Kab. Bangka Barat</th>\n",
       "      <td>-1.426334e+11</td>\n",
       "    </tr>\n",
       "    <tr>\n",
       "      <th>Kab. Toraja Utara</th>\n",
       "      <td>-1.143260e+11</td>\n",
       "    </tr>\n",
       "    <tr>\n",
       "      <th>Kab. Pekalongan</th>\n",
       "      <td>-1.126199e+11</td>\n",
       "    </tr>\n",
       "    <tr>\n",
       "      <th>Provinsi Nusa Tenggara Barat</th>\n",
       "      <td>-1.068122e+11</td>\n",
       "    </tr>\n",
       "  </tbody>\n",
       "</table>\n",
       "</div>"
      ],
      "text/plain": [
       "                              nilaianggaran\n",
       "namapemda                                  \n",
       "Kota Surabaya                 -4.939111e+11\n",
       "Kab. Lampung Tengah           -2.721056e+11\n",
       "Kab. Kerinci                  -2.068176e+11\n",
       "Kab. Trenggalek               -1.685698e+11\n",
       "Kab. Sidoarjo                 -1.672882e+11\n",
       "Kab. Pangkajene Kepulauan     -1.630154e+11\n",
       "Kab. Bangka Barat             -1.426334e+11\n",
       "Kab. Toraja Utara             -1.143260e+11\n",
       "Kab. Pekalongan               -1.126199e+11\n",
       "Provinsi Nusa Tenggara Barat  -1.068122e+11"
      ]
     },
     "execution_count": 23,
     "metadata": {},
     "output_type": "execute_result"
    }
   ],
   "source": [
    "import pandas as pd\n",
    "df3= df2.nsmallest(10, 'nilaianggaran')\n",
    "df3 #cek minus terbesar"
   ]
  },
  {
   "cell_type": "code",
   "execution_count": 24,
   "metadata": {},
   "outputs": [],
   "source": [
    "df10= datacl[['namakegiatan','nilaianggaran']]"
   ]
  },
  {
   "cell_type": "code",
   "execution_count": 25,
   "metadata": {},
   "outputs": [
    {
     "data": {
      "text/html": [
       "<div>\n",
       "<style scoped>\n",
       "    .dataframe tbody tr th:only-of-type {\n",
       "        vertical-align: middle;\n",
       "    }\n",
       "\n",
       "    .dataframe tbody tr th {\n",
       "        vertical-align: top;\n",
       "    }\n",
       "\n",
       "    .dataframe thead th {\n",
       "        text-align: right;\n",
       "    }\n",
       "</style>\n",
       "<table border=\"1\" class=\"dataframe\">\n",
       "  <thead>\n",
       "    <tr style=\"text-align: right;\">\n",
       "      <th></th>\n",
       "      <th>namakegiatan</th>\n",
       "      <th>nilaianggaran</th>\n",
       "    </tr>\n",
       "  </thead>\n",
       "  <tbody>\n",
       "    <tr>\n",
       "      <th>3199019</th>\n",
       "      <td>Non Kegiatan</td>\n",
       "      <td>1.496154e+13</td>\n",
       "    </tr>\n",
       "    <tr>\n",
       "      <th>1906183</th>\n",
       "      <td>Non Kegiatan</td>\n",
       "      <td>1.152702e+13</td>\n",
       "    </tr>\n",
       "    <tr>\n",
       "      <th>1906267</th>\n",
       "      <td>Non Kegiatan</td>\n",
       "      <td>9.649566e+12</td>\n",
       "    </tr>\n",
       "    <tr>\n",
       "      <th>3199125</th>\n",
       "      <td>Non Kegiatan</td>\n",
       "      <td>8.893076e+12</td>\n",
       "    </tr>\n",
       "    <tr>\n",
       "      <th>13776</th>\n",
       "      <td>Non Kegiatan</td>\n",
       "      <td>8.357472e+12</td>\n",
       "    </tr>\n",
       "    <tr>\n",
       "      <th>2517235</th>\n",
       "      <td>Non Kegiatan</td>\n",
       "      <td>8.029792e+12</td>\n",
       "    </tr>\n",
       "    <tr>\n",
       "      <th>3997049</th>\n",
       "      <td>Non Kegiatan</td>\n",
       "      <td>5.850230e+12</td>\n",
       "    </tr>\n",
       "    <tr>\n",
       "      <th>1906268</th>\n",
       "      <td>Non Kegiatan</td>\n",
       "      <td>5.748676e+12</td>\n",
       "    </tr>\n",
       "    <tr>\n",
       "      <th>2818832</th>\n",
       "      <td>Non Kegiatan</td>\n",
       "      <td>5.620854e+12</td>\n",
       "    </tr>\n",
       "    <tr>\n",
       "      <th>3199126</th>\n",
       "      <td>Non Kegiatan</td>\n",
       "      <td>4.708906e+12</td>\n",
       "    </tr>\n",
       "  </tbody>\n",
       "</table>\n",
       "</div>"
      ],
      "text/plain": [
       "         namakegiatan  nilaianggaran\n",
       "3199019  Non Kegiatan   1.496154e+13\n",
       "1906183  Non Kegiatan   1.152702e+13\n",
       "1906267  Non Kegiatan   9.649566e+12\n",
       "3199125  Non Kegiatan   8.893076e+12\n",
       "13776    Non Kegiatan   8.357472e+12\n",
       "2517235  Non Kegiatan   8.029792e+12\n",
       "3997049  Non Kegiatan   5.850230e+12\n",
       "1906268  Non Kegiatan   5.748676e+12\n",
       "2818832  Non Kegiatan   5.620854e+12\n",
       "3199126  Non Kegiatan   4.708906e+12"
      ]
     },
     "execution_count": 25,
     "metadata": {},
     "output_type": "execute_result"
    }
   ],
   "source": [
    "import pandas as pd\n",
    "df11= df10.nlargest(10, 'nilaianggaran')\n",
    "df11 "
   ]
  },
  {
   "cell_type": "code",
   "execution_count": 26,
   "metadata": {},
   "outputs": [],
   "source": [
    "df12= datacl[['namapemda','namakegiatan','nilaianggaran']]"
   ]
  },
  {
   "cell_type": "code",
   "execution_count": 27,
   "metadata": {},
   "outputs": [
    {
     "name": "stderr",
     "output_type": "stream",
     "text": [
      "<ipython-input-27-0c431e2aa903>:1: SettingWithCopyWarning: \n",
      "A value is trying to be set on a copy of a slice from a DataFrame.\n",
      "Try using .loc[row_indexer,col_indexer] = value instead\n",
      "\n",
      "See the caveats in the documentation: https://pandas.pydata.org/pandas-docs/stable/user_guide/indexing.html#returning-a-view-versus-a-copy\n",
      "  df12['namakegiatan'] = df12['namakegiatan'].replace(['NON KEGIATAN', 'Non kegiatan', 'NonKegiatan', 'nonkegiatan','nonKegiatan','non kegiatan',\n"
     ]
    }
   ],
   "source": [
    "df12['namakegiatan'] = df12['namakegiatan'].replace(['NON KEGIATAN', 'Non kegiatan', 'NonKegiatan', 'nonkegiatan','nonKegiatan','non kegiatan',\n",
    "                              'non Kegiatan', 'NON kegiatan', 'NONKEGIATAN', 'nonKEGIATAN', 'NONkegiatan'],'Non Kegiatan')\n",
    "\n",
    "\n",
    "#singkatannya beda2 direplace"
   ]
  },
  {
   "cell_type": "code",
   "execution_count": 29,
   "metadata": {},
   "outputs": [
    {
     "data": {
      "text/html": [
       "<div>\n",
       "<style scoped>\n",
       "    .dataframe tbody tr th:only-of-type {\n",
       "        vertical-align: middle;\n",
       "    }\n",
       "\n",
       "    .dataframe tbody tr th {\n",
       "        vertical-align: top;\n",
       "    }\n",
       "\n",
       "    .dataframe thead th {\n",
       "        text-align: right;\n",
       "    }\n",
       "</style>\n",
       "<table border=\"1\" class=\"dataframe\">\n",
       "  <thead>\n",
       "    <tr style=\"text-align: right;\">\n",
       "      <th></th>\n",
       "      <th>nilaianggaran</th>\n",
       "    </tr>\n",
       "    <tr>\n",
       "      <th>namakegiatan</th>\n",
       "      <th></th>\n",
       "    </tr>\n",
       "  </thead>\n",
       "  <tbody>\n",
       "    <tr>\n",
       "      <th>Album Paqbanua  Kajian Kesejahteraan Masyarakat Polewali Mandar</th>\n",
       "      <td>1.190902e+08</td>\n",
       "    </tr>\n",
       "    <tr>\n",
       "      <th>Jaminan Pelayanan Kesehatan Nasional (JKN) - Non Kapitasi</th>\n",
       "      <td>1.871053e+09</td>\n",
       "    </tr>\n",
       "    <tr>\n",
       "      <th>Jaminan Pelayanan Kesehatan Nasional (JKN) -Kapitasi</th>\n",
       "      <td>1.764269e+10</td>\n",
       "    </tr>\n",
       "    <tr>\n",
       "      <th>Kegiatan Peningkatan Kompetensi dan profesionalitas Guru dan Tenaga Kependidikan SMK\\n</th>\n",
       "      <td>1.504549e+09</td>\n",
       "    </tr>\n",
       "    <tr>\n",
       "      <th>PENINGKATAN LAYANAN GURU DAN TENAGA KEPENDIDIKAN SMA\\n</th>\n",
       "      <td>1.511885e+11</td>\n",
       "    </tr>\n",
       "  </tbody>\n",
       "</table>\n",
       "</div>"
      ],
      "text/plain": [
       "                                                    nilaianggaran\n",
       "namakegiatan                                                     \n",
       " Album Paqbanua  Kajian Kesejahteraan Masyaraka...   1.190902e+08\n",
       " Jaminan Pelayanan Kesehatan Nasional (JKN) - N...   1.871053e+09\n",
       " Jaminan Pelayanan Kesehatan Nasional (JKN) -Ka...   1.764269e+10\n",
       " Kegiatan Peningkatan Kompetensi dan profesiona...   1.504549e+09\n",
       " PENINGKATAN LAYANAN GURU DAN TENAGA KEPENDIDIK...   1.511885e+11"
      ]
     },
     "execution_count": 29,
     "metadata": {},
     "output_type": "execute_result"
    }
   ],
   "source": [
    "df13 = pd.pivot_table(df12, index=['namakegiatan'],values=['nilaianggaran'],aggfunc='sum') #ngetotalin by namakegiatan\n",
    "df13.head()"
   ]
  },
  {
   "cell_type": "code",
   "execution_count": 30,
   "metadata": {},
   "outputs": [
    {
     "data": {
      "text/plain": [
       "(348376, 1)"
      ]
     },
     "execution_count": 30,
     "metadata": {},
     "output_type": "execute_result"
    }
   ],
   "source": [
    "df13.shape #348376 kegiatan yg berbeda"
   ]
  },
  {
   "cell_type": "code",
   "execution_count": 31,
   "metadata": {},
   "outputs": [
    {
     "data": {
      "text/html": [
       "<div>\n",
       "<style scoped>\n",
       "    .dataframe tbody tr th:only-of-type {\n",
       "        vertical-align: middle;\n",
       "    }\n",
       "\n",
       "    .dataframe tbody tr th {\n",
       "        vertical-align: top;\n",
       "    }\n",
       "\n",
       "    .dataframe thead th {\n",
       "        text-align: right;\n",
       "    }\n",
       "</style>\n",
       "<table border=\"1\" class=\"dataframe\">\n",
       "  <thead>\n",
       "    <tr style=\"text-align: right;\">\n",
       "      <th></th>\n",
       "      <th>nilaianggaran</th>\n",
       "    </tr>\n",
       "    <tr>\n",
       "      <th>namakegiatan</th>\n",
       "      <th></th>\n",
       "    </tr>\n",
       "  </thead>\n",
       "  <tbody>\n",
       "    <tr>\n",
       "      <th>Non Kegiatan</th>\n",
       "      <td>1.953047e+15</td>\n",
       "    </tr>\n",
       "    <tr>\n",
       "      <th>Pendapatan</th>\n",
       "      <td>7.054215e+13</td>\n",
       "    </tr>\n",
       "    <tr>\n",
       "      <th>Belanja Tidak Langsung</th>\n",
       "      <td>4.294952e+13</td>\n",
       "    </tr>\n",
       "    <tr>\n",
       "      <th>Pendapatan Badan Pengelolaan Keuangan dan Pajak Daerah</th>\n",
       "      <td>1.513941e+13</td>\n",
       "    </tr>\n",
       "    <tr>\n",
       "      <th>Pembangunan jalan</th>\n",
       "      <td>1.110430e+13</td>\n",
       "    </tr>\n",
       "    <tr>\n",
       "      <th>Non Program</th>\n",
       "      <td>1.097021e+13</td>\n",
       "    </tr>\n",
       "    <tr>\n",
       "      <th>Belanja tidak langsung</th>\n",
       "      <td>8.677459e+12</td>\n",
       "    </tr>\n",
       "    <tr>\n",
       "      <th>Pendapatan PPKD</th>\n",
       "      <td>7.881562e+12</td>\n",
       "    </tr>\n",
       "    <tr>\n",
       "      <th>Peningkatan Layanan Umum Daerah</th>\n",
       "      <td>4.903574e+12</td>\n",
       "    </tr>\n",
       "    <tr>\n",
       "      <th>Peningkatan Jalan</th>\n",
       "      <td>4.628311e+12</td>\n",
       "    </tr>\n",
       "  </tbody>\n",
       "</table>\n",
       "</div>"
      ],
      "text/plain": [
       "                                                    nilaianggaran\n",
       "namakegiatan                                                     \n",
       "Non Kegiatan                                         1.953047e+15\n",
       "Pendapatan                                           7.054215e+13\n",
       "Belanja Tidak Langsung                               4.294952e+13\n",
       "Pendapatan Badan Pengelolaan Keuangan dan Pajak...   1.513941e+13\n",
       "Pembangunan jalan                                    1.110430e+13\n",
       "Non Program                                          1.097021e+13\n",
       "Belanja tidak langsung                               8.677459e+12\n",
       "Pendapatan PPKD                                      7.881562e+12\n",
       "Peningkatan Layanan Umum Daerah                      4.903574e+12\n",
       "Peningkatan Jalan                                    4.628311e+12"
      ]
     },
     "execution_count": 31,
     "metadata": {},
     "output_type": "execute_result"
    }
   ],
   "source": [
    "import pandas as pd\n",
    "df14= df13.nlargest(10, 'nilaianggaran') #kegiatan dg anggaran terbesar\n",
    "df14"
   ]
  },
  {
   "cell_type": "markdown",
   "metadata": {},
   "source": [
    "# Data processing"
   ]
  },
  {
   "cell_type": "code",
   "execution_count": 16,
   "metadata": {},
   "outputs": [],
   "source": [
    "#buang outlier aja pake < 40 juta\n",
    "datanoneg = datanoneg[datanoneg['nilaianggaran'] < 25000000]"
   ]
  },
  {
   "cell_type": "code",
   "execution_count": 17,
   "metadata": {},
   "outputs": [
    {
     "data": {
      "text/plain": [
       "(4759374, 15)"
      ]
     },
     "execution_count": 17,
     "metadata": {},
     "output_type": "execute_result"
    }
   ],
   "source": [
    "datanoneg.shape #ada 5 juta row, untuk modelling sepertinya hanya kuat 1 jutaan"
   ]
  },
  {
   "cell_type": "code",
   "execution_count": 18,
   "metadata": {},
   "outputs": [
    {
     "data": {
      "text/html": [
       "<div>\n",
       "<style scoped>\n",
       "    .dataframe tbody tr th:only-of-type {\n",
       "        vertical-align: middle;\n",
       "    }\n",
       "\n",
       "    .dataframe tbody tr th {\n",
       "        vertical-align: top;\n",
       "    }\n",
       "\n",
       "    .dataframe thead th {\n",
       "        text-align: right;\n",
       "    }\n",
       "</style>\n",
       "<table border=\"1\" class=\"dataframe\">\n",
       "  <thead>\n",
       "    <tr style=\"text-align: right;\">\n",
       "      <th></th>\n",
       "      <th>kodedata</th>\n",
       "      <th>statusdata</th>\n",
       "      <th>jeniscoa</th>\n",
       "      <th>nilaianggaran</th>\n",
       "    </tr>\n",
       "  </thead>\n",
       "  <tbody>\n",
       "    <tr>\n",
       "      <th>count</th>\n",
       "      <td>4.759374e+06</td>\n",
       "      <td>4759374.0</td>\n",
       "      <td>4.759374e+06</td>\n",
       "      <td>4.759374e+06</td>\n",
       "    </tr>\n",
       "    <tr>\n",
       "      <th>mean</th>\n",
       "      <td>8.990176e-01</td>\n",
       "      <td>4.0</td>\n",
       "      <td>1.995106e+00</td>\n",
       "      <td>5.776541e+06</td>\n",
       "    </tr>\n",
       "    <tr>\n",
       "      <th>std</th>\n",
       "      <td>3.013054e-01</td>\n",
       "      <td>0.0</td>\n",
       "      <td>6.978369e-02</td>\n",
       "      <td>6.156293e+06</td>\n",
       "    </tr>\n",
       "    <tr>\n",
       "      <th>min</th>\n",
       "      <td>0.000000e+00</td>\n",
       "      <td>4.0</td>\n",
       "      <td>1.000000e+00</td>\n",
       "      <td>1.000000e-02</td>\n",
       "    </tr>\n",
       "    <tr>\n",
       "      <th>25%</th>\n",
       "      <td>1.000000e+00</td>\n",
       "      <td>4.0</td>\n",
       "      <td>2.000000e+00</td>\n",
       "      <td>1.000000e+06</td>\n",
       "    </tr>\n",
       "    <tr>\n",
       "      <th>50%</th>\n",
       "      <td>1.000000e+00</td>\n",
       "      <td>4.0</td>\n",
       "      <td>2.000000e+00</td>\n",
       "      <td>3.300000e+06</td>\n",
       "    </tr>\n",
       "    <tr>\n",
       "      <th>75%</th>\n",
       "      <td>1.000000e+00</td>\n",
       "      <td>4.0</td>\n",
       "      <td>2.000000e+00</td>\n",
       "      <td>8.700000e+06</td>\n",
       "    </tr>\n",
       "    <tr>\n",
       "      <th>max</th>\n",
       "      <td>1.000000e+00</td>\n",
       "      <td>4.0</td>\n",
       "      <td>2.000000e+00</td>\n",
       "      <td>2.500000e+07</td>\n",
       "    </tr>\n",
       "  </tbody>\n",
       "</table>\n",
       "</div>"
      ],
      "text/plain": [
       "           kodedata  statusdata      jeniscoa  nilaianggaran\n",
       "count  4.759374e+06   4759374.0  4.759374e+06   4.759374e+06\n",
       "mean   8.990176e-01         4.0  1.995106e+00   5.776541e+06\n",
       "std    3.013054e-01         0.0  6.978369e-02   6.156293e+06\n",
       "min    0.000000e+00         4.0  1.000000e+00   1.000000e-02\n",
       "25%    1.000000e+00         4.0  2.000000e+00   1.000000e+06\n",
       "50%    1.000000e+00         4.0  2.000000e+00   3.300000e+06\n",
       "75%    1.000000e+00         4.0  2.000000e+00   8.700000e+06\n",
       "max    1.000000e+00         4.0  2.000000e+00   2.500000e+07"
      ]
     },
     "execution_count": 18,
     "metadata": {},
     "output_type": "execute_result"
    }
   ],
   "source": [
    "datanoneg.describe()\n",
    "#drop kolom \"statusdata\" untuk modelling karena sama semua\n",
    "#biaya paling   minimal 10 ribu?"
   ]
  },
  {
   "cell_type": "code",
   "execution_count": 19,
   "metadata": {},
   "outputs": [
    {
     "data": {
      "image/png": "[encoded data removed]",
      "text/plain": [
       "<Figure size 432x288 with 1 Axes>"
      ]
     },
     "metadata": {
      "needs_background": "light"
     },
     "output_type": "display_data"
    }
   ],
   "source": [
    "plt.boxplot(datanoneg['nilaianggaran'])\n",
    "plt.show()"
   ]
  },
  {
   "cell_type": "code",
   "execution_count": 20,
   "metadata": {},
   "outputs": [
    {
     "data": {
      "text/plain": [
       "<AxesSubplot:>"
      ]
     },
     "execution_count": 20,
     "metadata": {},
     "output_type": "execute_result"
    },
    {
     "data": {
      "image/png": "[encoded data removed]",
      "text/plain": [
       "<Figure size 432x288 with 1 Axes>"
      ]
     },
     "metadata": {
      "needs_background": "light"
     },
     "output_type": "display_data"
    }
   ],
   "source": [
    "datanoneg[\"nilaianggaran\"].hist(bins= 100)"
   ]
  },
  {
   "cell_type": "code",
   "execution_count": 21,
   "metadata": {},
   "outputs": [],
   "source": [
    "datafix = datanoneg[['namapemda', 'kodedata', 'jeniscoa', 'namaurusanprogram', 'namaurusanpelaksana', 'namaskpd', 'namaprogram', 'namakegiatan', 'namafungsi', 'namaakunkelompok', 'namaakunjenis', 'namaakunobjek', 'namaakunrincian', 'nilaianggaran']]"
   ]
  },
  {
   "cell_type": "code",
   "execution_count": 22,
   "metadata": {},
   "outputs": [],
   "source": [
    "datafix = datafix.sample(frac = 0.2) #ambil 20% sample karena spek laptop :("
   ]
  },
  {
   "cell_type": "code",
   "execution_count": 23,
   "metadata": {},
   "outputs": [
    {
     "name": "stdout",
     "output_type": "stream",
     "text": [
      "<class 'pandas.core.frame.DataFrame'>\n",
      "Int64Index: 951875 entries, 5616564 to 4059328\n",
      "Data columns (total 14 columns):\n",
      " #   Column               Non-Null Count   Dtype  \n",
      "---  ------               --------------   -----  \n",
      " 0   namapemda            951875 non-null  object \n",
      " 1   kodedata             951875 non-null  int64  \n",
      " 2   jeniscoa             951875 non-null  int64  \n",
      " 3   namaurusanprogram    951875 non-null  object \n",
      " 4   namaurusanpelaksana  951875 non-null  object \n",
      " 5   namaskpd             951875 non-null  object \n",
      " 6   namaprogram          951875 non-null  object \n",
      " 7   namakegiatan         951875 non-null  object \n",
      " 8   namafungsi           951875 non-null  object \n",
      " 9   namaakunkelompok     951875 non-null  object \n",
      " 10  namaakunjenis        951875 non-null  object \n",
      " 11  namaakunobjek        951875 non-null  object \n",
      " 12  namaakunrincian      951875 non-null  object \n",
      " 13  nilaianggaran        951875 non-null  float64\n",
      "dtypes: float64(1), int64(2), object(11)\n",
      "memory usage: 108.9+ MB\n"
     ]
    }
   ],
   "source": [
    "datafix.info()"
   ]
  },
  {
   "cell_type": "code",
   "execution_count": 24,
   "metadata": {},
   "outputs": [],
   "source": [
    "#Label Encoder\n",
    "from sklearn import preprocessing\n",
    "category_col =['namapemda','namaurusanprogram', 'namaurusanpelaksana', 'namaskpd', 'namaprogram', 'namakegiatan', 'namafungsi', 'namaakunkelompok', 'namaakunjenis', 'namaakunobjek', 'namaakunrincian']\n",
    "labelEncoder = preprocessing.LabelEncoder()"
   ]
  },
  {
   "cell_type": "code",
   "execution_count": 25,
   "metadata": {},
   "outputs": [],
   "source": [
    "datafix[['namapemda','namaurusanprogram', 'namaurusanpelaksana', 'namaskpd', 'namaprogram', 'namakegiatan', 'namafungsi', 'namaakunkelompok', 'namaakunjenis', 'namaakunobjek', 'namaakunrincian']] = datafix[['namapemda','namaurusanprogram', 'namaurusanpelaksana', 'namaskpd', 'namaprogram', 'namakegiatan', 'namafungsi', 'namaakunkelompok', 'namaakunjenis', 'namaakunobjek', 'namaakunrincian']].astype(str)"
   ]
  },
  {
   "cell_type": "code",
   "execution_count": 26,
   "metadata": {},
   "outputs": [],
   "source": [
    "#Daftar Kategorik\n",
    "mapping_dict={}\n",
    "for col in category_col:\n",
    " datafix[col] = labelEncoder.fit_transform(datafix[col])\n",
    " le_name_mapping = dict(zip(labelEncoder.classes_,\n",
    "labelEncoder.transform(labelEncoder.classes_)))\n",
    " mapping_dict[col]=le_name_mapping\n",
    "#print(mapping_dict)"
   ]
  },
  {
   "cell_type": "code",
   "execution_count": 27,
   "metadata": {},
   "outputs": [
    {
     "name": "stdout",
     "output_type": "stream",
     "text": [
      "<class 'pandas.core.frame.DataFrame'>\n",
      "Int64Index: 951875 entries, 5616564 to 4059328\n",
      "Data columns (total 14 columns):\n",
      " #   Column               Non-Null Count   Dtype  \n",
      "---  ------               --------------   -----  \n",
      " 0   namapemda            951875 non-null  int32  \n",
      " 1   kodedata             951875 non-null  int64  \n",
      " 2   jeniscoa             951875 non-null  int64  \n",
      " 3   namaurusanprogram    951875 non-null  int32  \n",
      " 4   namaurusanpelaksana  951875 non-null  int32  \n",
      " 5   namaskpd             951875 non-null  int32  \n",
      " 6   namaprogram          951875 non-null  int32  \n",
      " 7   namakegiatan         951875 non-null  int32  \n",
      " 8   namafungsi           951875 non-null  int32  \n",
      " 9   namaakunkelompok     951875 non-null  int32  \n",
      " 10  namaakunjenis        951875 non-null  int32  \n",
      " 11  namaakunobjek        951875 non-null  int32  \n",
      " 12  namaakunrincian      951875 non-null  int32  \n",
      " 13  nilaianggaran        951875 non-null  float64\n",
      "dtypes: float64(1), int32(11), int64(2)\n",
      "memory usage: 69.0 MB\n"
     ]
    }
   ],
   "source": [
    "datafix.info()"
   ]
  },
  {
   "cell_type": "code",
   "execution_count": 28,
   "metadata": {
    "scrolled": true
   },
   "outputs": [
    {
     "data": {
      "text/html": [
       "<div>\n",
       "<style scoped>\n",
       "    .dataframe tbody tr th:only-of-type {\n",
       "        vertical-align: middle;\n",
       "    }\n",
       "\n",
       "    .dataframe tbody tr th {\n",
       "        vertical-align: top;\n",
       "    }\n",
       "\n",
       "    .dataframe thead th {\n",
       "        text-align: right;\n",
       "    }\n",
       "</style>\n",
       "<table border=\"1\" class=\"dataframe\">\n",
       "  <thead>\n",
       "    <tr style=\"text-align: right;\">\n",
       "      <th></th>\n",
       "      <th>namapemda</th>\n",
       "      <th>kodedata</th>\n",
       "      <th>jeniscoa</th>\n",
       "      <th>namaurusanprogram</th>\n",
       "      <th>namaurusanpelaksana</th>\n",
       "      <th>namaskpd</th>\n",
       "      <th>namaprogram</th>\n",
       "      <th>namakegiatan</th>\n",
       "      <th>namafungsi</th>\n",
       "      <th>namaakunkelompok</th>\n",
       "      <th>namaakunjenis</th>\n",
       "      <th>namaakunobjek</th>\n",
       "      <th>namaakunrincian</th>\n",
       "      <th>nilaianggaran</th>\n",
       "    </tr>\n",
       "  </thead>\n",
       "  <tbody>\n",
       "    <tr>\n",
       "      <th>5616564</th>\n",
       "      <td>269</td>\n",
       "      <td>1</td>\n",
       "      <td>2</td>\n",
       "      <td>473</td>\n",
       "      <td>563</td>\n",
       "      <td>336</td>\n",
       "      <td>4722</td>\n",
       "      <td>146348</td>\n",
       "      <td>73</td>\n",
       "      <td>5</td>\n",
       "      <td>21</td>\n",
       "      <td>177</td>\n",
       "      <td>10451</td>\n",
       "      <td>7500000.0</td>\n",
       "    </tr>\n",
       "    <tr>\n",
       "      <th>4845552</th>\n",
       "      <td>318</td>\n",
       "      <td>1</td>\n",
       "      <td>2</td>\n",
       "      <td>657</td>\n",
       "      <td>1289</td>\n",
       "      <td>6126</td>\n",
       "      <td>4722</td>\n",
       "      <td>144132</td>\n",
       "      <td>44</td>\n",
       "      <td>5</td>\n",
       "      <td>21</td>\n",
       "      <td>177</td>\n",
       "      <td>9054</td>\n",
       "      <td>530000.0</td>\n",
       "    </tr>\n",
       "    <tr>\n",
       "      <th>4718499</th>\n",
       "      <td>5</td>\n",
       "      <td>0</td>\n",
       "      <td>2</td>\n",
       "      <td>1321</td>\n",
       "      <td>1210</td>\n",
       "      <td>1808</td>\n",
       "      <td>4332</td>\n",
       "      <td>147992</td>\n",
       "      <td>79</td>\n",
       "      <td>2</td>\n",
       "      <td>35</td>\n",
       "      <td>689</td>\n",
       "      <td>5907</td>\n",
       "      <td>8639800.0</td>\n",
       "    </tr>\n",
       "    <tr>\n",
       "      <th>752243</th>\n",
       "      <td>195</td>\n",
       "      <td>1</td>\n",
       "      <td>2</td>\n",
       "      <td>1243</td>\n",
       "      <td>1150</td>\n",
       "      <td>1212</td>\n",
       "      <td>2620</td>\n",
       "      <td>190738</td>\n",
       "      <td>5</td>\n",
       "      <td>5</td>\n",
       "      <td>21</td>\n",
       "      <td>388</td>\n",
       "      <td>3499</td>\n",
       "      <td>4000000.0</td>\n",
       "    </tr>\n",
       "    <tr>\n",
       "      <th>1053792</th>\n",
       "      <td>350</td>\n",
       "      <td>1</td>\n",
       "      <td>2</td>\n",
       "      <td>1061</td>\n",
       "      <td>1025</td>\n",
       "      <td>104</td>\n",
       "      <td>133</td>\n",
       "      <td>46622</td>\n",
       "      <td>73</td>\n",
       "      <td>30</td>\n",
       "      <td>120</td>\n",
       "      <td>1840</td>\n",
       "      <td>14287</td>\n",
       "      <td>22343500.0</td>\n",
       "    </tr>\n",
       "  </tbody>\n",
       "</table>\n",
       "</div>"
      ],
      "text/plain": [
       "         namapemda  kodedata  jeniscoa  namaurusanprogram  \\\n",
       "5616564        269         1         2                473   \n",
       "4845552        318         1         2                657   \n",
       "4718499          5         0         2               1321   \n",
       "752243         195         1         2               1243   \n",
       "1053792        350         1         2               1061   \n",
       "\n",
       "         namaurusanpelaksana  namaskpd  namaprogram  namakegiatan  namafungsi  \\\n",
       "5616564                  563       336         4722        146348          73   \n",
       "4845552                 1289      6126         4722        144132          44   \n",
       "4718499                 1210      1808         4332        147992          79   \n",
       "752243                  1150      1212         2620        190738           5   \n",
       "1053792                 1025       104          133         46622          73   \n",
       "\n",
       "         namaakunkelompok  namaakunjenis  namaakunobjek  namaakunrincian  \\\n",
       "5616564                 5             21            177            10451   \n",
       "4845552                 5             21            177             9054   \n",
       "4718499                 2             35            689             5907   \n",
       "752243                  5             21            388             3499   \n",
       "1053792                30            120           1840            14287   \n",
       "\n",
       "         nilaianggaran  \n",
       "5616564      7500000.0  \n",
       "4845552       530000.0  \n",
       "4718499      8639800.0  \n",
       "752243       4000000.0  \n",
       "1053792     22343500.0  "
      ]
     },
     "execution_count": 28,
     "metadata": {},
     "output_type": "execute_result"
    }
   ],
   "source": [
    "datafix.head()"
   ]
  },
  {
   "cell_type": "code",
   "execution_count": 29,
   "metadata": {},
   "outputs": [
    {
     "data": {
      "image/png": "[encoded data removed]",
      "text/plain": [
       "<Figure size 432x288 with 2 Axes>"
      ]
     },
     "metadata": {
      "needs_background": "light"
     },
     "output_type": "display_data"
    }
   ],
   "source": [
    "# create correlation matrix\n",
    "import statsmodels.api as sm\n",
    "\n",
    "corr = datafix.corr()\n",
    "sm.graphics.plot_corr(corr, xnames=list(corr.columns))\n",
    "plt.show()"
   ]
  },
  {
   "cell_type": "markdown",
   "metadata": {},
   "source": [
    ">warning!: variabel indipenden tidak ada yg kuat korelasinya dengan variabel dependen >= model tidak akan terlalu baik memprediksi\n",
    "\n",
    ">based on correlation we must drop\n",
    "1. namaurusanpelaksana or namaurusanprogram\n",
    "2. namaakunjenis or namaakunkelompok\n",
    "3. namaakunrincian or namaakunobjek"
   ]
  },
  {
   "cell_type": "code",
   "execution_count": 30,
   "metadata": {},
   "outputs": [],
   "source": [
    "#dataset fix buat modelling\n",
    "datafix =datafix[['namapemda','namaurusanprogram', 'namaskpd', 'namaprogram', 'namakegiatan', 'namafungsi', 'namaakunkelompok', 'namaakunobjek','nilaianggaran']]"
   ]
  },
  {
   "cell_type": "markdown",
   "metadata": {},
   "source": [
    "Oke!! lanjut modelling"
   ]
  },
  {
   "cell_type": "markdown",
   "metadata": {},
   "source": [
    "# Train -Test split"
   ]
  },
  {
   "cell_type": "code",
   "execution_count": 31,
   "metadata": {},
   "outputs": [
    {
     "data": {
      "text/html": [
       "<div>\n",
       "<style scoped>\n",
       "    .dataframe tbody tr th:only-of-type {\n",
       "        vertical-align: middle;\n",
       "    }\n",
       "\n",
       "    .dataframe tbody tr th {\n",
       "        vertical-align: top;\n",
       "    }\n",
       "\n",
       "    .dataframe thead th {\n",
       "        text-align: right;\n",
       "    }\n",
       "</style>\n",
       "<table border=\"1\" class=\"dataframe\">\n",
       "  <thead>\n",
       "    <tr style=\"text-align: right;\">\n",
       "      <th></th>\n",
       "      <th>namapemda</th>\n",
       "      <th>namaurusanprogram</th>\n",
       "      <th>namaskpd</th>\n",
       "      <th>namaprogram</th>\n",
       "      <th>namakegiatan</th>\n",
       "      <th>namafungsi</th>\n",
       "      <th>namaakunkelompok</th>\n",
       "      <th>namaakunobjek</th>\n",
       "    </tr>\n",
       "  </thead>\n",
       "  <tbody>\n",
       "    <tr>\n",
       "      <th>5616564</th>\n",
       "      <td>269</td>\n",
       "      <td>473</td>\n",
       "      <td>336</td>\n",
       "      <td>4722</td>\n",
       "      <td>146348</td>\n",
       "      <td>73</td>\n",
       "      <td>5</td>\n",
       "      <td>177</td>\n",
       "    </tr>\n",
       "    <tr>\n",
       "      <th>4845552</th>\n",
       "      <td>318</td>\n",
       "      <td>657</td>\n",
       "      <td>6126</td>\n",
       "      <td>4722</td>\n",
       "      <td>144132</td>\n",
       "      <td>44</td>\n",
       "      <td>5</td>\n",
       "      <td>177</td>\n",
       "    </tr>\n",
       "    <tr>\n",
       "      <th>4718499</th>\n",
       "      <td>5</td>\n",
       "      <td>1321</td>\n",
       "      <td>1808</td>\n",
       "      <td>4332</td>\n",
       "      <td>147992</td>\n",
       "      <td>79</td>\n",
       "      <td>2</td>\n",
       "      <td>689</td>\n",
       "    </tr>\n",
       "    <tr>\n",
       "      <th>752243</th>\n",
       "      <td>195</td>\n",
       "      <td>1243</td>\n",
       "      <td>1212</td>\n",
       "      <td>2620</td>\n",
       "      <td>190738</td>\n",
       "      <td>5</td>\n",
       "      <td>5</td>\n",
       "      <td>388</td>\n",
       "    </tr>\n",
       "    <tr>\n",
       "      <th>1053792</th>\n",
       "      <td>350</td>\n",
       "      <td>1061</td>\n",
       "      <td>104</td>\n",
       "      <td>133</td>\n",
       "      <td>46622</td>\n",
       "      <td>73</td>\n",
       "      <td>30</td>\n",
       "      <td>1840</td>\n",
       "    </tr>\n",
       "  </tbody>\n",
       "</table>\n",
       "</div>"
      ],
      "text/plain": [
       "         namapemda  namaurusanprogram  namaskpd  namaprogram  namakegiatan  \\\n",
       "5616564        269                473       336         4722        146348   \n",
       "4845552        318                657      6126         4722        144132   \n",
       "4718499          5               1321      1808         4332        147992   \n",
       "752243         195               1243      1212         2620        190738   \n",
       "1053792        350               1061       104          133         46622   \n",
       "\n",
       "         namafungsi  namaakunkelompok  namaakunobjek  \n",
       "5616564          73                 5            177  \n",
       "4845552          44                 5            177  \n",
       "4718499          79                 2            689  \n",
       "752243            5                 5            388  \n",
       "1053792          73                30           1840  "
      ]
     },
     "execution_count": 31,
     "metadata": {},
     "output_type": "execute_result"
    }
   ],
   "source": [
    "#Variabel Independen\n",
    "X = datafix.drop([\"nilaianggaran\"], axis=1)\n",
    "X.head()"
   ]
  },
  {
   "cell_type": "code",
   "execution_count": 32,
   "metadata": {},
   "outputs": [
    {
     "data": {
      "text/plain": [
       "5616564     7500000.0\n",
       "4845552      530000.0\n",
       "4718499     8639800.0\n",
       "752243      4000000.0\n",
       "1053792    22343500.0\n",
       "Name: nilaianggaran, dtype: float64"
      ]
     },
     "execution_count": 32,
     "metadata": {},
     "output_type": "execute_result"
    }
   ],
   "source": [
    "#Variabel Dependen\n",
    "y=datafix[\"nilaianggaran\"]\n",
    "y.head()"
   ]
  },
  {
   "cell_type": "code",
   "execution_count": 33,
   "metadata": {},
   "outputs": [],
   "source": [
    "#DataTesting dan Training\n",
    "from sklearn.model_selection import train_test_split\n",
    "X_train, X_test, y_train, y_test = train_test_split(X, y,\n",
    "test_size=0.2, random_state=1234)"
   ]
  },
  {
   "cell_type": "code",
   "execution_count": 34,
   "metadata": {},
   "outputs": [
    {
     "name": "stdout",
     "output_type": "stream",
     "text": [
      "(761500, 8)\n",
      "(190375, 8)\n"
     ]
    }
   ],
   "source": [
    "print(X_train.shape)\n",
    "print(X_test.shape)"
   ]
  },
  {
   "cell_type": "code",
   "execution_count": 35,
   "metadata": {},
   "outputs": [
    {
     "data": {
      "text/plain": [
       "<AxesSubplot:>"
      ]
     },
     "execution_count": 35,
     "metadata": {},
     "output_type": "execute_result"
    },
    {
     "data": {
      "image/png": "[encoded data removed]",
      "text/plain": [
       "<Figure size 432x288 with 1 Axes>"
      ]
     },
     "metadata": {
      "needs_background": "light"
     },
     "output_type": "display_data"
    }
   ],
   "source": [
    "y_train.hist(bins= 100)"
   ]
  },
  {
   "cell_type": "code",
   "execution_count": 36,
   "metadata": {},
   "outputs": [
    {
     "data": {
      "text/plain": [
       "<AxesSubplot:>"
      ]
     },
     "execution_count": 36,
     "metadata": {},
     "output_type": "execute_result"
    },
    {
     "data": {
      "image/png": "[encoded data removed]",
      "text/plain": [
       "<Figure size 432x288 with 1 Axes>"
      ]
     },
     "metadata": {
      "needs_background": "light"
     },
     "output_type": "display_data"
    }
   ],
   "source": [
    "y_test.hist(bins= 100)"
   ]
  },
  {
   "cell_type": "markdown",
   "metadata": {},
   "source": [
    "distribusi data train dan test mirip, oke bisa lanjut modelling"
   ]
  },
  {
   "cell_type": "markdown",
   "metadata": {},
   "source": [
    "# Model Selection"
   ]
  },
  {
   "cell_type": "markdown",
   "metadata": {},
   "source": [
    "Karena semua variabel indipenden kategorik -> tree method would be the best"
   ]
  },
  {
   "cell_type": "markdown",
   "metadata": {},
   "source": [
    "1. Decision Tree"
   ]
  },
  {
   "cell_type": "code",
   "execution_count": 37,
   "metadata": {},
   "outputs": [
    {
     "data": {
      "text/plain": [
       "DecisionTreeRegressor(random_state=42)"
      ]
     },
     "execution_count": 37,
     "metadata": {},
     "output_type": "execute_result"
    }
   ],
   "source": [
    "from sklearn.tree import DecisionTreeRegressor\n",
    "\n",
    "tree_reg = DecisionTreeRegressor(random_state=42)\n",
    "tree_reg.fit(X_train, y_train)"
   ]
  },
  {
   "cell_type": "code",
   "execution_count": 38,
   "metadata": {},
   "outputs": [
    {
     "data": {
      "text/plain": [
       "2056034.6066744514"
      ]
     },
     "execution_count": 38,
     "metadata": {},
     "output_type": "execute_result"
    }
   ],
   "source": [
    "from sklearn.metrics import mean_squared_error\n",
    "\n",
    "predictions = tree_reg.predict(X_train)\n",
    "tree_mse = mean_squared_error(y_train, predictions)\n",
    "tree_rmse = np.sqrt(tree_mse)\n",
    "tree_rmse "
   ]
  },
  {
   "cell_type": "code",
   "execution_count": 39,
   "metadata": {},
   "outputs": [],
   "source": [
    "from sklearn.model_selection import cross_val_score\n",
    "\n",
    "scores = cross_val_score(tree_reg, X_train, y_train,\n",
    "                         scoring=\"neg_mean_squared_error\", cv=5)\n",
    "tree_rmse_scores = np.sqrt(-scores)"
   ]
  },
  {
   "cell_type": "code",
   "execution_count": 40,
   "metadata": {},
   "outputs": [
    {
     "name": "stdout",
     "output_type": "stream",
     "text": [
      "Scores: [6945489.21159337 6911456.38404459 6951913.15521347 6948239.19622352\n",
      " 6953662.26676034]\n",
      "Mean: 6942152.042767058\n",
      "Standard deviation: 15608.831922673537\n"
     ]
    }
   ],
   "source": [
    "def display_scores(scores):\n",
    "    print(\"Scores:\", scores)\n",
    "    print(\"Mean:\", scores.mean())\n",
    "    print(\"Standard deviation:\", scores.std())\n",
    "\n",
    "display_scores(tree_rmse_scores)"
   ]
  },
  {
   "cell_type": "markdown",
   "metadata": {},
   "source": [
    "ga bagus, dari range 0-25 juta dapet mean error 6,9 juta"
   ]
  },
  {
   "cell_type": "markdown",
   "metadata": {},
   "source": [
    "2. Random Forest"
   ]
  },
  {
   "cell_type": "code",
   "execution_count": 41,
   "metadata": {},
   "outputs": [
    {
     "data": {
      "text/plain": [
       "RandomForestRegressor(n_estimators=10, random_state=42)"
      ]
     },
     "execution_count": 41,
     "metadata": {},
     "output_type": "execute_result"
    }
   ],
   "source": [
    "from sklearn.ensemble import RandomForestRegressor\n",
    "  \n",
    "forest_reg = RandomForestRegressor(n_estimators=10, random_state=42)\n",
    "forest_reg.fit(X_train, y_train)"
   ]
  },
  {
   "cell_type": "code",
   "execution_count": 42,
   "metadata": {},
   "outputs": [
    {
     "data": {
      "text/plain": [
       "2912386.5969705745"
      ]
     },
     "execution_count": 42,
     "metadata": {},
     "output_type": "execute_result"
    }
   ],
   "source": [
    "predictions = forest_reg.predict(X_train)\n",
    "forest_mse = mean_squared_error(y_train, predictions)\n",
    "forest_rmse = np.sqrt(forest_mse)\n",
    "forest_rmse "
   ]
  },
  {
   "cell_type": "code",
   "execution_count": 44,
   "metadata": {},
   "outputs": [
    {
     "name": "stdout",
     "output_type": "stream",
     "text": [
      "Scores: [5620590.98645885 5614367.13056378 5622219.60542333 5636101.24317219\n",
      " 5633769.74786807]\n",
      "Mean: 5625409.7426972445\n",
      "Standard deviation: 8240.564775589779\n"
     ]
    }
   ],
   "source": [
    "from sklearn.model_selection import cross_val_score\n",
    "\n",
    "forest_scores = cross_val_score(forest_reg, X_train, y_train,\n",
    "                                scoring=\"neg_mean_squared_error\", cv=5)\n",
    "forest_rmse_scores = np.sqrt(-forest_scores)\n",
    "display_scores(forest_rmse_scores)"
   ]
  },
  {
   "cell_type": "markdown",
   "metadata": {},
   "source": [
    "better than DT but only got 5,6 juta rmse, coba hyperparameters tuning buat ningkatin evaluasi"
   ]
  },
  {
   "cell_type": "code",
   "execution_count": 45,
   "metadata": {},
   "outputs": [
    {
     "data": {
      "text/plain": [
       "GridSearchCV(cv=5, estimator=RandomForestRegressor(random_state=42),\n",
       "             param_grid=[{'max_features': [4, 6, 8],\n",
       "                          'n_estimators': [30, 40, 50]}],\n",
       "             return_train_score=True, scoring='neg_mean_squared_error')"
      ]
     },
     "execution_count": 45,
     "metadata": {},
     "output_type": "execute_result"
    }
   ],
   "source": [
    "#\n",
    "from sklearn.model_selection import GridSearchCV\n",
    "\n",
    "param_grid = [\n",
    "    # try 12 (3×4) combinations of hyperparameters\n",
    "    {'n_estimators': [30, 40, 50], 'max_features': [4, 6, 8]},\n",
    "  ]\n",
    "\n",
    "forest_reg = RandomForestRegressor(random_state=42)\n",
    "# train across 5 folds, that's a total of (12+6)*5=90 rounds of training \n",
    "grid_search = GridSearchCV(forest_reg, param_grid, cv=5,\n",
    "                           scoring='neg_mean_squared_error', return_train_score=True)\n",
    "grid_search.fit(X_train, y_train)"
   ]
  },
  {
   "cell_type": "code",
   "execution_count": 46,
   "metadata": {},
   "outputs": [
    {
     "data": {
      "text/plain": [
       "{'max_features': 4, 'n_estimators': 50}"
      ]
     },
     "execution_count": 46,
     "metadata": {},
     "output_type": "execute_result"
    }
   ],
   "source": [
    "#parameter terbaik -> n_estimators -> 50, coba tambahinlagi\n",
    "grid_search.best_params_ "
   ]
  },
  {
   "cell_type": "code",
   "execution_count": 47,
   "metadata": {},
   "outputs": [
    {
     "data": {
      "text/plain": [
       "5453874.378912701"
      ]
     },
     "execution_count": 47,
     "metadata": {},
     "output_type": "execute_result"
    }
   ],
   "source": [
    "#hasil evaluasi dari parameter teraik\n",
    "negative_mse = grid_search.best_score_\n",
    "rmse = np.sqrt(-negative_mse)\n",
    "rmse"
   ]
  },
  {
   "cell_type": "markdown",
   "metadata": {},
   "source": [
    "Random forest dengan hyperparameters menjadi model terbaik, sehingga bisa dilanjutkan untuk evaluasi final dengan test set"
   ]
  },
  {
   "cell_type": "code",
   "execution_count": 48,
   "metadata": {},
   "outputs": [
    {
     "data": {
      "text/plain": [
       "<AxesSubplot:ylabel='feature'>"
      ]
     },
     "execution_count": 48,
     "metadata": {},
     "output_type": "execute_result"
    },
    {
     "data": {
      "image/png": "[encoded data removed]",
      "text/plain": [
       "<Figure size 432x288 with 1 Axes>"
      ]
     },
     "metadata": {
      "needs_background": "light"
     },
     "output_type": "display_data"
    }
   ],
   "source": [
    "#Cek Feature importances\n",
    "features = list(X_train.columns)\n",
    "feature_importances = pd.DataFrame({'feature': features,\n",
    "'importance': grid_search.best_estimator_.feature_importances_})\n",
    "feature_importances .plot(x ='feature', y='importance', kind =\n",
    "'barh', color=\"lime\")"
   ]
  },
  {
   "cell_type": "code",
   "execution_count": 49,
   "metadata": {},
   "outputs": [
    {
     "data": {
      "text/plain": [
       "5429194.885113691"
      ]
     },
     "execution_count": 49,
     "metadata": {},
     "output_type": "execute_result"
    }
   ],
   "source": [
    "#menggunakan model final untuk uij coba test set\n",
    "final_model = grid_search.best_estimator_\n",
    "\n",
    "final_predictions = final_model.predict(X_test)\n",
    "\n",
    "final_mse = mean_squared_error(y_test, final_predictions)\n",
    "final_rmse = np.sqrt(final_mse)\n",
    "final_rmse"
   ]
  },
  {
   "cell_type": "code",
   "execution_count": 50,
   "metadata": {},
   "outputs": [],
   "source": [
    "#Save Model\n",
    "#import pickle\n",
    "#pickle.dump(final_model, open('modelapbn.pkl','wb'))"
   ]
  }
 ],
 "metadata": {
  "kernelspec": {
   "display_name": "Python 3",
   "language": "python",
   "name": "python3"
  },
  "language_info": {
   "codemirror_mode": {
    "name": "ipython",
    "version": 3
   },
   "file_extension": ".py",
   "mimetype": "text/x-python",
   "name": "python",
   "nbconvert_exporter": "python",
   "pygments_lexer": "ipython3",
   "version": "3.8.5"
  }
 },
 "nbformat": 4,
 "nbformat_minor": 4
}
